{
 "cells": [
  {
   "cell_type": "markdown",
   "metadata": {},
   "source": [
    "## MicroPython\n",
    "\n",
    "### 外觀\n",
    "![esp-lolin](image/esp-lolin.png)\n",
    "\n",
    "* 這一張圖很重要!!很重要!!很重要!!\n",
    "* 因為ESP上的D1~D8並不是我們在microPython中的代號，如D4在microPython中為pin2，因此要寫 machine.Pin(2, machine.Pin.OUT) \n",
    "<code>\n",
    "D0 = 16\n",
    "D1 = 5  #PWM\n",
    "D2 = 4  #PWM\n",
    "D3 = 0  #PWM\n",
    "D4 = 2  #PWM, #Led on board\n",
    "D5 = 14 #PWM\n",
    "D6 = 12 #PWM\n",
    "D7 = 13 #PWM\n",
    "D8 = 15 #PWM\n",
    "</code>\n",
    "\n",
    "----\n"
   ]
  },
  {
   "cell_type": "markdown",
   "metadata": {},
   "source": [
    "### 如何把買來的ESP8266, ESP12E改成 MicroPython韌體\n",
    "\n",
    "- 由這邊下載 Firmware\n",
    "  http://micropython.org/download#esp8266![image.png](attachment:image.png)\n",
    "  \n",
    "- 安裝燒錄Firmware的工具: esptool.py\n",
    "\n",
    "- 燒錄流程：\n",
    "    - Erase  \n",
    "    esptool.py --port com12 erase_flash\n",
    "    - 燒錄  \n",
    "    esptool.py --port com12 --baud 460800 write_flash --flash_size=detect -fm dio 0 py-esp8266-20170108-v1.8.7.bin\n",
    "\n",
    "----\n"
   ]
  },
  {
   "cell_type": "markdown",
   "metadata": {},
   "source": [
    "### adafruit-ampy: 方便的Serial操作工具\n",
    "\n",
    "可以寫入程式、執行程式、管理檔案系統\n",
    "\n",
    "- 安裝方式  \n",
    "pip install adafruit-ampy\n",
    "\n",
    "- 把程式放進板子  \n",
    "ampy --port com12 put test.py\n",
    "\n",
    "- 執行程式(不放進去)  \n",
    "ampy --port com12 run test.py\n",
    "\n",
    "- 執行程式，不等回應結果(有while loop不會停的程式時使用)  \n",
    "ampy --port com12 run test2.py --no-output\n",
    "\n",
    "- Reset  \n",
    "ampy --port com12 reset\n",
    "\n",
    "- 列出所有檔案  \n",
    "ampy --port com12 ls\n",
    "\n",
    "- 建立資料夾  \n",
    "ampy --port com12 mkdir dir3\n",
    "\n",
    "- 移除資料夾  \n",
    "ampy --port com12 rmdir dir3\n",
    "\n",
    "- 移除檔案  \n",
    "ampy --port com12 rm data.txt\n",
    "\n",
    "----\n"
   ]
  },
  {
   "cell_type": "markdown",
   "metadata": {},
   "source": [
    "## 更方便的工具：Jupyter-notebook MicroPython Kernel\n",
    "\n",
    "在Jupyter-notebook上就可以一邊測試程式、一邊寫下測試心得\n",
    "\n",
    "\n",
    "### [連結](如何安裝使用Jupyter的MicroPython套件.ipynb)"
   ]
  },
  {
   "cell_type": "markdown",
   "metadata": {},
   "source": [
    "## 我用MicroPyton玩的那些硬體元件\n",
    "\n",
    "### [連結](basic-component.ipynb)\n",
    "\n",
    "----\n"
   ]
  },
  {
   "cell_type": "markdown",
   "metadata": {},
   "source": [
    "## 智慧避障小車\n",
    "\n",
    "- [git連結](https://github.com/maloyang/MicroPython-Car)\n",
    "\n",
    "- [car_basic 連結](car_basic.ipynb)  \n",
    "    - 使用TT減速馬達  \n",
    "  \n",
    "- [car1_basic 連結](car1_basic.ipynb)\n",
    "    - 使用TT減速馬達\n",
    "  \n",
    "- [car2_basic 連結](car2_basic.ipynb)\n",
    "    - 使用360度的servo\n",
    "  \n",
    "----\n"
   ]
  },
  {
   "cell_type": "markdown",
   "metadata": {},
   "source": [
    "## Otto跳舞機器人\n",
    "\n",
    "- [連結](https://github.com/maloyang/MicroPython-Otto-Bot)\n",
    "\n",
    "----\n"
   ]
  }
 ],
 "metadata": {
  "kernelspec": {
   "display_name": "Python 3",
   "language": "python",
   "name": "python3"
  },
  "language_info": {
   "codemirror_mode": {
    "name": "ipython",
    "version": 3
   },
   "file_extension": ".py",
   "mimetype": "text/x-python",
   "name": "python",
   "nbconvert_exporter": "python",
   "pygments_lexer": "ipython3",
   "version": "3.6.1"
  }
 },
 "nbformat": 4,
 "nbformat_minor": 2
}
