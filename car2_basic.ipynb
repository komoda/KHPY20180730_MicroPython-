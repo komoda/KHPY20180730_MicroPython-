{
 "cells": [
  {
   "cell_type": "markdown",
   "metadata": {},
   "source": [
    "## 小車2號：用360度servo"
   ]
  },
  {
   "cell_type": "code",
   "execution_count": 33,
   "metadata": {
    "scrolled": true
   },
   "outputs": [
    {
     "name": "stdout",
     "output_type": "stream",
     "text": [
      "\u001b[34m** WebSocket connected **\n",
      "\u001b[0mPassword: \n",
      "WebREPL connected\n",
      ">>> \u001b[34mReady.\n",
      "\u001b[0m"
     ]
    }
   ],
   "source": [
    "%websocketconnect --password 1234 ws://192.168.43.73:8266"
   ]
  },
  {
   "cell_type": "code",
   "execution_count": 2,
   "metadata": {},
   "outputs": [
    {
     "name": "stdout",
     "output_type": "stream",
     "text": [
      "\u001b[34m\n",
      "Closing websocket <websocket._core.WebSocket object at 0x044FD130>\n",
      "\u001b[0m\u001b[34mConnecting to --port=com7 --baud=115200 \u001b[0m\n",
      "\u001b[34m\n",
      "Try one of these ports as --port= \n",
      "  COM18\n",
      "  COM19\u001b[0m"
     ]
    }
   ],
   "source": [
    "%serialconnect to --port=com7 --baud=115200"
   ]
  },
  {
   "cell_type": "code",
   "execution_count": 34,
   "metadata": {},
   "outputs": [],
   "source": [
    "# 定義\n",
    "from machine import Pin\n",
    "from machine import PWM\n",
    "import time\n",
    "\n",
    "# PIN Define:\n",
    "D0 = 16\n",
    "D1 = 5  #PWM\n",
    "D2 = 4  #PWM\n",
    "D3 = 0  #PWM\n",
    "D4 = 2  #PWM, #Led on board\n",
    "D5 = 14 #PWM\n",
    "D6 = 12 #PWM\n",
    "D7 = 13 #PWM\n",
    "D8 = 15 #PWM\n"
   ]
  },
  {
   "cell_type": "code",
   "execution_count": 35,
   "metadata": {
    "collapsed": true
   },
   "outputs": [],
   "source": [
    "ang0=40 #逆時針\n",
    "ang90=77 #停止\n",
    "ang180=115 #順時針"
   ]
  },
  {
   "cell_type": "code",
   "execution_count": 36,
   "metadata": {
    "collapsed": true
   },
   "outputs": [],
   "source": [
    "p2 = Pin(D4)"
   ]
  },
  {
   "cell_type": "code",
   "execution_count": 37,
   "metadata": {},
   "outputs": [
    {
     "name": "stdout",
     "output_type": "stream",
     "text": [
      "0\r\n"
     ]
    }
   ],
   "source": [
    "p2.value(0)\n",
    "print(p2.value())"
   ]
  },
  {
   "cell_type": "markdown",
   "metadata": {},
   "source": [
    "### 定義小車輪子\n"
   ]
  },
  {
   "cell_type": "code",
   "execution_count": 38,
   "metadata": {
    "collapsed": true
   },
   "outputs": [],
   "source": [
    "servoL = PWM(Pin(D6), freq=50)\n",
    "servoR = PWM(Pin(D5), freq=50)"
   ]
  },
  {
   "cell_type": "code",
   "execution_count": 39,
   "metadata": {
    "collapsed": true
   },
   "outputs": [],
   "source": [
    "ang0=40 #逆時針\n",
    "ang90=77 #停止\n",
    "ang180=115 #順時針"
   ]
  },
  {
   "cell_type": "markdown",
   "metadata": {},
   "source": [
    "- 左輪"
   ]
  },
  {
   "cell_type": "code",
   "execution_count": 25,
   "metadata": {
    "collapsed": true
   },
   "outputs": [],
   "source": [
    "servoL.duty(ang0) # FW"
   ]
  },
  {
   "cell_type": "code",
   "execution_count": 26,
   "metadata": {
    "collapsed": true
   },
   "outputs": [],
   "source": [
    "servoL.duty(ang180) #BK"
   ]
  },
  {
   "cell_type": "code",
   "execution_count": 27,
   "metadata": {
    "collapsed": true
   },
   "outputs": [],
   "source": [
    "servoL.duty(ang90)"
   ]
  },
  {
   "cell_type": "markdown",
   "metadata": {},
   "source": [
    "- 左輪"
   ]
  },
  {
   "cell_type": "code",
   "execution_count": 22,
   "metadata": {
    "collapsed": true
   },
   "outputs": [],
   "source": [
    "servoR.duty(ang180) #FW"
   ]
  },
  {
   "cell_type": "code",
   "execution_count": 23,
   "metadata": {
    "collapsed": true
   },
   "outputs": [],
   "source": [
    "servoR.duty(ang0) #BK"
   ]
  },
  {
   "cell_type": "code",
   "execution_count": 24,
   "metadata": {
    "collapsed": true
   },
   "outputs": [],
   "source": [
    "servoR.duty(ang90)"
   ]
  },
  {
   "cell_type": "markdown",
   "metadata": {},
   "source": [
    "- 前進"
   ]
  },
  {
   "cell_type": "code",
   "execution_count": 28,
   "metadata": {
    "collapsed": true
   },
   "outputs": [],
   "source": [
    "servoL.duty(ang0)\n",
    "servoR.duty(ang180)"
   ]
  },
  {
   "cell_type": "markdown",
   "metadata": {},
   "source": [
    "- 後退"
   ]
  },
  {
   "cell_type": "code",
   "execution_count": 29,
   "metadata": {
    "collapsed": true
   },
   "outputs": [],
   "source": [
    "servoL.duty(ang180)\n",
    "servoR.duty(ang0)"
   ]
  },
  {
   "cell_type": "markdown",
   "metadata": {},
   "source": [
    "- 停止"
   ]
  },
  {
   "cell_type": "code",
   "execution_count": 40,
   "metadata": {
    "collapsed": true
   },
   "outputs": [],
   "source": [
    "servoL.duty(ang90)\n",
    "servoR.duty(ang90)"
   ]
  },
  {
   "cell_type": "markdown",
   "metadata": {
    "collapsed": true
   },
   "source": [
    "### 超音波功能測試\n",
    "\n",
    "- ping"
   ]
  },
  {
   "cell_type": "code",
   "execution_count": 41,
   "metadata": {},
   "outputs": [],
   "source": [
    "def ping(trigPin, echoPin):\n",
    "    '''\n",
    "        return: distance (cm)\n",
    "    '''\n",
    "    trig=Pin(trigPin, Pin.OUT)\n",
    "    echo=Pin(echoPin, Pin.IN)\n",
    "    trig.value(1)\n",
    "    time.sleep_us(10)\n",
    "    trig.value(0)\n",
    "    timeout=False\n",
    "    tm_start=time.ticks_us() \n",
    "    while not echo.value(): #wait for HIGH, 3000us timeout\n",
    "        if(time.ticks_diff(time.ticks_us(), tm_start)>3000):\n",
    "            timeout=True\n",
    "            break\n",
    "    if timeout: #timeout return 0\n",
    "        pass\n",
    "    else: #got HIGH pulse:calculate duration\n",
    "        tm_start=time.ticks_us()\n",
    "        tm_delta = 0\n",
    "        while echo.value(): #wait for LOW\n",
    "            tm_delta = time.ticks_diff(time.ticks_us(), tm_start)\n",
    "            if(tm_delta>3000):\n",
    "                timeout=True\n",
    "                break\n",
    "        if timeout:\n",
    "            pass\n",
    "        else:\n",
    "            tm_delta = time.ticks_diff(time.ticks_us(), tm_start)\n",
    "            duration=tm_delta\n",
    "    \n",
    "    if timeout:\n",
    "        return 999 #cm, for timeout\n",
    "        \n",
    "    return duration/58"
   ]
  },
  {
   "cell_type": "code",
   "execution_count": 47,
   "metadata": {},
   "outputs": [
    {
     "name": "stdout",
     "output_type": "stream",
     "text": [
      "9.27586\r\n"
     ]
    }
   ],
   "source": [
    "print(ping(trigPin=D7,echoPin=D8))"
   ]
  },
  {
   "cell_type": "code",
   "execution_count": 48,
   "metadata": {},
   "outputs": [
    {
     "name": "stdout",
     "output_type": "stream",
     "text": [
      "4.48276 cm\n",
      "9.06897 cm\n",
      "6.39655 cm\n",
      "6.39655 cm\n",
      "9.05172 cm\n",
      "9.84483 cm\n",
      ".7.58621 cm\n",
      "13.7931 cm\n",
      "18.3448 cm\n",
      "6.37931 cm\n",
      "6.39655 cm\n",
      ".6.39655 cm\n",
      "6.39655 cm\n",
      "6.39655 cm\n",
      "6.39655 cm\n",
      "\u001b[34m\n",
      "\n",
      "*** Sending Ctrl-C\n",
      "\n",
      "\u001b[0m"
     ]
    },
    {
     "name": "stderr",
     "output_type": "stream",
     "text": [
      "Traceback (most recent call last):\n",
      "  File \"<stdin>\", line 3, in <module>\n",
      "KeyboardInterrupt: \n"
     ]
    }
   ],
   "source": [
    "while True:\n",
    "    print('%s cm' %(ping(trigPin=D7,echoPin=D8)))\n",
    "    time.sleep(1)"
   ]
  },
  {
   "cell_type": "markdown",
   "metadata": {},
   "source": [
    "### car2 第一版程式"
   ]
  },
  {
   "cell_type": "code",
   "execution_count": 185,
   "metadata": {
    "scrolled": true
   },
   "outputs": [
    {
     "name": "stdout",
     "output_type": "stream",
     "text": [
      "\u001b[34m** WebSocket connected **\n",
      "\u001b[0mPassword: \n",
      "WebREPL connected\n",
      ">>> \u001b[34mReady.\n",
      "\u001b[0m"
     ]
    }
   ],
   "source": [
    "%websocketconnect --password 1234 ws://192.168.43.73:8266"
   ]
  },
  {
   "cell_type": "code",
   "execution_count": 186,
   "metadata": {},
   "outputs": [
    {
     "name": "stdout",
     "output_type": "stream",
     "text": [
      "Sent 98 lines (1928 bytes) to main.py.\n"
     ]
    }
   ],
   "source": [
    "%sendtofile main.py\n",
    "\n",
    "# 定義\n",
    "import machine\n",
    "from machine import Pin\n",
    "from machine import PWM\n",
    "import time\n",
    "\n",
    "# PIN Define:\n",
    "D0 = 16\n",
    "D1 = 5  #PWM\n",
    "D2 = 4  #PWM\n",
    "D3 = 0  #PWM\n",
    "D4 = 2  #PWM, #Led on board\n",
    "D5 = 14 #PWM\n",
    "D6 = 12 #PWM\n",
    "D7 = 13 #PWM\n",
    "D8 = 15 #PWM\n",
    "\n",
    "ang0=40 #逆時針\n",
    "ang90=77 #停止\n",
    "ang180=115 #順時針\n",
    "\n",
    "#Setup PINS\n",
    "servoL = PWM(Pin(D6), freq=50)\n",
    "servoR = PWM(Pin(D5), freq=50)\n",
    "\n",
    "def car_fwd():\n",
    "    servoL.duty(ang180)\n",
    "    servoR.duty(ang0)\n",
    "\n",
    "def car_rev():\n",
    "    servoL.duty(ang0)\n",
    "    servoR.duty(ang180)\n",
    "\n",
    "def car_stop():\n",
    "    servoL.duty(ang90)\n",
    "    servoR.duty(ang90)\n",
    "\n",
    "def car_right():\n",
    "    servoL.duty(ang90)\n",
    "    servoR.duty(ang0)\n",
    "\n",
    "def car_left():\n",
    "    servoL.duty(ang0)\n",
    "    servoR.duty(ang90)\n",
    "\n",
    "\n",
    "def ping(trigPin, echoPin):\n",
    "    '''\n",
    "        return: distance (cm)\n",
    "    '''\n",
    "    trig=Pin(trigPin, Pin.OUT)\n",
    "    echo=Pin(echoPin, Pin.IN)\n",
    "    trig.value(1)\n",
    "    time.sleep_us(10)\n",
    "    trig.value(0)\n",
    "    timeout=False\n",
    "    tm_start=time.ticks_us() \n",
    "    while not echo.value(): #wait for HIGH, 3000us timeout\n",
    "        if(time.ticks_diff(time.ticks_us(), tm_start)>3000):\n",
    "            timeout=True\n",
    "            break\n",
    "    if timeout: #timeout return 0\n",
    "        pass\n",
    "    else: #got HIGH pulse:calculate duration\n",
    "        tm_start=time.ticks_us()\n",
    "        tm_delta = 0\n",
    "        while echo.value(): #wait for LOW\n",
    "            tm_delta = time.ticks_diff(time.ticks_us(), tm_start)\n",
    "            if(tm_delta>3000):\n",
    "                timeout=True\n",
    "                break\n",
    "        if timeout:\n",
    "            pass\n",
    "        else:\n",
    "            tm_delta = time.ticks_diff(time.ticks_us(), tm_start)\n",
    "            duration=tm_delta\n",
    "    \n",
    "    if timeout:\n",
    "        return 999 #cm, for timeout\n",
    "        \n",
    "    return duration/58\n",
    "\n",
    "# go~\n",
    "car_fwd()\n",
    "\n",
    "while(True):\n",
    "    distance=ping(trigPin=D7,echoPin=D8)\n",
    "    if distance>20:\n",
    "        car_fwd()\n",
    "    elif distance>10:\n",
    "        car_rev()\n",
    "        time.sleep(0.5)\n",
    "        car_right()\n",
    "        time.sleep(1)\n",
    "    elif distance<=10:\n",
    "        car_rev()\n",
    "        time.sleep(1)\n",
    "    time.sleep(0.1)"
   ]
  },
  {
   "cell_type": "markdown",
   "metadata": {
    "collapsed": true
   },
   "source": [
    "## car2 程式第二版 2018/07/15"
   ]
  },
  {
   "cell_type": "code",
   "execution_count": 1,
   "metadata": {
    "scrolled": false
   },
   "outputs": [
    {
     "name": "stdout",
     "output_type": "stream",
     "text": [
      "\u001b[34m** WebSocket connected **\n",
      "\u001b[0mPassword: \n",
      "WebREPL connected\n",
      ">>> \u001b[34mReady.\n",
      "\u001b[0m"
     ]
    }
   ],
   "source": [
    "%websocketconnect --password 1234 ws://192.168.43.73:8266"
   ]
  },
  {
   "cell_type": "markdown",
   "metadata": {},
   "source": [
    "### 基本動作測試"
   ]
  },
  {
   "cell_type": "code",
   "execution_count": 2,
   "metadata": {
    "collapsed": true
   },
   "outputs": [],
   "source": [
    "# 定義\n",
    "import machine\n",
    "from machine import Pin\n",
    "from machine import PWM\n",
    "import time\n",
    "\n",
    "# PIN Define:\n",
    "D0 = 16\n",
    "D1 = 5  #PWM\n",
    "D2 = 4  #PWM\n",
    "D3 = 0  #PWM\n",
    "D4 = 2  #PWM, #Led on board\n",
    "D5 = 14 #PWM\n",
    "D6 = 12 #PWM\n",
    "D7 = 13 #PWM\n",
    "D8 = 15 #PWM\n",
    "\n",
    "ang0=40 #逆時針\n",
    "ang90=77 #停止\n",
    "ang180=115 #順時針\n",
    "\n",
    "#Setup PINS\n",
    "servoL = PWM(Pin(D5), freq=50)\n",
    "servoR = PWM(Pin(D6), freq=50)\n",
    "\n",
    "def car_fwd():\n",
    "    servoL.duty(ang0)    #左前轉\n",
    "    servoR.duty(ang180)  #右前轉\n",
    "\n",
    "def car_rev():\n",
    "    servoL.duty(ang180)  #左後轉\n",
    "    servoR.duty(ang0)    #右後轉\n",
    "\n",
    "def car_stop():\n",
    "    servoL.duty(ang90)\n",
    "    servoR.duty(ang90)\n",
    "\n",
    "def car_right():\n",
    "    servoL.duty(ang0)\n",
    "    servoR.duty(ang90)\n",
    "\n",
    "def car_left():\n",
    "    servoL.duty(ang90)\n",
    "    servoR.duty(ang0)\n",
    "    \n",
    "def car_right2():\n",
    "    servoL.duty(ang0)\n",
    "    servoR.duty(ang0)\n",
    "\n",
    "def car_left2():\n",
    "    servoL.duty(ang180)\n",
    "    servoR.duty(ang180)    "
   ]
  },
  {
   "cell_type": "code",
   "execution_count": 3,
   "metadata": {
    "collapsed": true
   },
   "outputs": [],
   "source": [
    "car_stop()"
   ]
  },
  {
   "cell_type": "code",
   "execution_count": 14,
   "metadata": {
    "collapsed": true
   },
   "outputs": [],
   "source": [
    "car_right()"
   ]
  },
  {
   "cell_type": "code",
   "execution_count": 15,
   "metadata": {
    "collapsed": true
   },
   "outputs": [],
   "source": [
    "car_right2()"
   ]
  },
  {
   "cell_type": "code",
   "execution_count": 6,
   "metadata": {
    "scrolled": true
   },
   "outputs": [
    {
     "name": "stdout",
     "output_type": "stream",
     "text": [
      ".[40]\n",
      "[43]\n",
      "[46]\n",
      "[49]\n",
      "[52]\n",
      "[55]\n",
      "[58]\n",
      ".[61]\n",
      "[64]\n",
      "[67]\n",
      "[70]\n",
      "[73]\n",
      "[76]\n"
     ]
    }
   ],
   "source": [
    "ang0=40 #逆時針\n",
    "ang90=77 #停止\n",
    "ang180=115 #順時針\n",
    "for i in range(ang0, ang90, 3):\n",
    "    servoL.duty(i)\n",
    "    time.sleep(1)\n",
    "    print([i,],)"
   ]
  },
  {
   "cell_type": "code",
   "execution_count": 10,
   "metadata": {
    "collapsed": true
   },
   "outputs": [],
   "source": [
    "# 73變成慢轉\n",
    "servoL.duty(73)"
   ]
  },
  {
   "cell_type": "code",
   "execution_count": 18,
   "metadata": {
    "collapsed": true
   },
   "outputs": [],
   "source": [
    "servoL.duty(40)"
   ]
  },
  {
   "cell_type": "code",
   "execution_count": 19,
   "metadata": {},
   "outputs": [
    {
     "name": "stdout",
     "output_type": "stream",
     "text": [
      "Sent 112 lines (2235 bytes) to main.py.\n"
     ]
    }
   ],
   "source": [
    "%sendtofile main.py\n",
    "\n",
    "# 定義\n",
    "import machine\n",
    "from machine import Pin\n",
    "from machine import PWM\n",
    "import time\n",
    "\n",
    "# PIN Define:\n",
    "D0 = 16\n",
    "D1 = 5  #PWM\n",
    "D2 = 4  #PWM\n",
    "D3 = 0  #PWM\n",
    "D4 = 2  #PWM, #Led on board\n",
    "D5 = 14 #PWM\n",
    "D6 = 12 #PWM\n",
    "D7 = 13 #PWM\n",
    "D8 = 15 #PWM\n",
    "\n",
    "ang0=40 #逆時針\n",
    "ang90=77 #停止\n",
    "ang180=115 #順時針\n",
    "\n",
    "#Setup PINS\n",
    "servoL = PWM(Pin(D5), freq=50)\n",
    "servoR = PWM(Pin(D6), freq=50)\n",
    "\n",
    "def car_fwd():\n",
    "    servoL.duty(ang0)    #左前轉\n",
    "    servoR.duty(ang180)  #右前轉\n",
    "\n",
    "def car_rev():\n",
    "    servoL.duty(ang180)  #左後轉\n",
    "    servoR.duty(ang0)    #右後轉\n",
    "\n",
    "def car_stop():\n",
    "    servoL.duty(ang90)\n",
    "    servoR.duty(ang90)\n",
    "\n",
    "def car_right():\n",
    "    servoL.duty(ang0)\n",
    "    servoR.duty(ang90)\n",
    "\n",
    "def car_left():\n",
    "    servoL.duty(ang90)\n",
    "    servoR.duty(ang0)\n",
    "    \n",
    "def car_right2():\n",
    "    servoL.duty(ang0)\n",
    "    servoR.duty(ang0)\n",
    "\n",
    "def car_left2():\n",
    "    servoL.duty(ang180)\n",
    "    servoR.duty(ang180)    \n",
    "\n",
    "def ping(trigPin, echoPin):\n",
    "    '''\n",
    "        return: distance (cm)\n",
    "    '''\n",
    "    trig=Pin(trigPin, Pin.OUT)\n",
    "    echo=Pin(echoPin, Pin.IN)\n",
    "    trig.value(1)\n",
    "    time.sleep_us(10)\n",
    "    trig.value(0)\n",
    "    timeout=False\n",
    "    tm_start=time.ticks_us() \n",
    "    while not echo.value(): #wait for HIGH, 3000us timeout\n",
    "        if(time.ticks_diff(time.ticks_us(), tm_start)>3000):\n",
    "            timeout=True\n",
    "            break\n",
    "    if timeout: #timeout return 0\n",
    "        pass\n",
    "    else: #got HIGH pulse:calculate duration\n",
    "        tm_start=time.ticks_us()\n",
    "        tm_delta = 0\n",
    "        while echo.value(): #wait for LOW\n",
    "            tm_delta = time.ticks_diff(time.ticks_us(), tm_start)\n",
    "            if(tm_delta>3000):\n",
    "                timeout=True\n",
    "                break\n",
    "        if timeout:\n",
    "            pass\n",
    "        else:\n",
    "            tm_delta = time.ticks_diff(time.ticks_us(), tm_start)\n",
    "            duration=tm_delta\n",
    "    \n",
    "    if timeout:\n",
    "        return 999 #cm, for timeout\n",
    "        \n",
    "    return duration/58\n",
    "\n",
    "# go~\n",
    "car_fwd()\n",
    "\n",
    "last_distance = 0\n",
    "while(True):\n",
    "    distance=ping(trigPin=D7,echoPin=D8)\n",
    "    \n",
    "    #if distance == 999:\n",
    "    #    if last_distance < 10:\n",
    "    #        car_rev()\n",
    "    #        time.sleep(1)\n",
    "            \n",
    "    if distance>15:\n",
    "        car_fwd()\n",
    "    elif distance>10:\n",
    "        car_right2()\n",
    "        time.sleep(0.5)\n",
    "    elif distance<=5:\n",
    "        car_rev()\n",
    "        time.sleep(0.5)\n",
    "        \n",
    "    last_distance = distance\n",
    "    time.sleep(0.1)"
   ]
  },
  {
   "cell_type": "code",
   "execution_count": 20,
   "metadata": {
    "scrolled": false
   },
   "outputs": [
    {
     "name": "stdout",
     "output_type": "stream",
     "text": [
      "normal repl mode not detected \n",
      "MicroPython v1.9.1-8-g7213e78d on 2017-06-12; ESP module with ESP8266\n",
      "Type \"help()\" for more information.\n",
      ">>> \n",
      ">>> \n",
      "PYB: soft reboot\n",
      "\n",
      "not command mode\n",
      "\u001b[31m[Timed out waiting for recognizable response]\n",
      "\u001b[0m"
     ]
    }
   ],
   "source": [
    "%rebootdevice"
   ]
  },
  {
   "cell_type": "code",
   "execution_count": 27,
   "metadata": {},
   "outputs": [
    {
     "name": "stdout",
     "output_type": "stream",
     "text": [
      "\u001b[34m** WebSocket connected **\n",
      "\u001b[0mPassword: \u001b[34mReady.\n",
      "\u001b[0m"
     ]
    }
   ],
   "source": [
    "%websocketconnect --password 1234 ws://192.168.43.73:8266"
   ]
  },
  {
   "cell_type": "code",
   "execution_count": null,
   "metadata": {
    "collapsed": true
   },
   "outputs": [],
   "source": [
    "#%sendtofile main.py\n",
    "\n",
    "# 定義\n",
    "import machine\n",
    "from machine import Pin\n",
    "from machine import PWM\n",
    "import time\n",
    "\n",
    "# PIN Define:\n",
    "D0 = 16\n",
    "D1 = 5  #PWM\n",
    "D2 = 4  #PWM\n",
    "D3 = 0  #PWM\n",
    "D4 = 2  #PWM, #Led on board\n",
    "D5 = 14 #PWM\n",
    "D6 = 12 #PWM\n",
    "D7 = 13 #PWM\n",
    "D8 = 15 #PWM\n",
    "\n",
    "ang0=40 #逆時針\n",
    "ang90=77 #停止\n",
    "ang180=115 #順時針\n",
    "\n",
    "#Setup PINS\n",
    "servoL = PWM(Pin(D5), freq=50)\n",
    "servoR = PWM(Pin(D6), freq=50)\n",
    "\n",
    "def car_fwd():\n",
    "    servoL.duty(ang0)    #左前轉\n",
    "    servoR.duty(ang180)  #右前轉\n",
    "\n",
    "def car_rev():\n",
    "    servoL.duty(ang180)  #左後轉\n",
    "    servoR.duty(ang0)    #右後轉\n",
    "\n",
    "def car_stop():\n",
    "    servoL.duty(ang90)\n",
    "    servoR.duty(ang90)\n",
    "\n",
    "def car_right():\n",
    "    servoL.duty(ang0)\n",
    "    servoR.duty(ang90)\n",
    "\n",
    "def car_left():\n",
    "    servoL.duty(ang90)\n",
    "    servoR.duty(ang0)\n",
    "    \n",
    "def car_right2():\n",
    "    servoL.duty(ang0)\n",
    "    servoR.duty(ang0)\n",
    "\n",
    "def car_left2():\n",
    "    servoL.duty(ang180)\n",
    "    servoR.duty(ang180)    \n",
    "\n",
    "def ping(trigPin, echoPin):\n",
    "    '''\n",
    "        return: distance (cm)\n",
    "    '''\n",
    "    trig=Pin(trigPin, Pin.OUT)\n",
    "    echo=Pin(echoPin, Pin.IN)\n",
    "    trig.value(1)\n",
    "    time.sleep_us(10)\n",
    "    trig.value(0)\n",
    "    timeout=False\n",
    "    tm_start=time.ticks_us() \n",
    "    while not echo.value(): #wait for HIGH, 3000us timeout\n",
    "        if(time.ticks_diff(time.ticks_us(), tm_start)>3000):\n",
    "            timeout=True\n",
    "            break\n",
    "    if timeout: #timeout return 0\n",
    "        pass\n",
    "    else: #got HIGH pulse:calculate duration\n",
    "        tm_start=time.ticks_us()\n",
    "        tm_delta = 0\n",
    "        while echo.value(): #wait for LOW\n",
    "            tm_delta = time.ticks_diff(time.ticks_us(), tm_start)\n",
    "            if(tm_delta>3000):\n",
    "                timeout=True\n",
    "                break\n",
    "        if timeout:\n",
    "            pass\n",
    "        else:\n",
    "            tm_delta = time.ticks_diff(time.ticks_us(), tm_start)\n",
    "            duration=tm_delta\n",
    "    \n",
    "    if timeout:\n",
    "        return 999 #cm, for timeout\n",
    "        \n",
    "    return duration/58\n",
    "\n",
    "# go~\n",
    "car_fwd()\n",
    "\n",
    "last_distance = 0\n",
    "while(True):\n",
    "    distance=ping(trigPin=D7,echoPin=D8)\n",
    "    print(\"d=%d (%d)\" %(distance, last_distance))\n",
    "    '''\n",
    "    if distance == 999:\n",
    "        if last_distance < 10:\n",
    "            car_rev()\n",
    "            time.sleep(1)\n",
    "    '''        \n",
    "    if distance>15:\n",
    "        car_fwd()\n",
    "    elif distance>10:\n",
    "        car_right2()\n",
    "        time.sleep(0.5)\n",
    "    elif distance<=5:\n",
    "        car_rev()\n",
    "        time.sleep(0.5)\n",
    "        \n",
    "    last_distance = distance\n",
    "    time.sleep(0.2)"
   ]
  },
  {
   "cell_type": "code",
   "execution_count": null,
   "metadata": {
    "collapsed": true
   },
   "outputs": [],
   "source": []
  }
 ],
 "metadata": {
  "kernelspec": {
   "display_name": "MicroPython - USB",
   "language": "micropython",
   "name": "micropython"
  },
  "language_info": {
   "codemirror_mode": "python",
   "file_extension": ".py",
   "mimetype": "text/python",
   "name": "micropython"
  }
 },
 "nbformat": 4,
 "nbformat_minor": 2
}
