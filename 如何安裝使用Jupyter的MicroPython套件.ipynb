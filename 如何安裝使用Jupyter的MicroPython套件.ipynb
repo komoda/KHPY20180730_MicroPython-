{
 "cells": [
  {
   "cell_type": "markdown",
   "metadata": {},
   "source": [
    "# 如何安裝使用Jupyter的MicroPython套件.ipynb\n",
    "\n",
    "在Jupyter Notebook中要直接和micropython通訊要使用USB線，因此要安裝「jupyter_micropython_kernel」的jupyter kernel才行  \n",
    "\n",
    "\n",
    "### 過程如下：  \n",
    "\n",
    "- 先來這兒git repo下載：https://github.com/goatchurchprime/jupyter_micropython_kernel\n",
    "- 我是用win10，所以直接下載zip檔，解壓後，不用進入repo的目錄，直接下指令：\n",
    "\n",
    "```\n",
    "pip install -e jupyter_micropython_kernel-master\n",
    "```\n",
    "\n",
    "- 安裝訊息如下：\n",
    "\n",
    "```\n",
    "Requirement already satisfied: pyserial>=3.4 in c:\\users\\malo\\anaconda3\\lib\\site-packages (from jupyter-micropython-kernel==0.1.3) (3.4)\n",
    "Collecting websocket-client>=0.44 (from jupyter-micropython-kernel==0.1.3)\n",
    "  Downloading https://files.pythonhosted.org/packages/8a/a1/72ef9aa26cfe1a75cee09fc1957e4723add9de098c15719416a1ee89386b/websocket_client-0.48.0-py2.py3-none-any.whl (198kB)\n",
    "    100% |████████████████████████████████| 204kB 10kB/s\n",
    "Requirement already satisfied: six in c:\\users\\malo\\anaconda3\\lib\\site-packages (from websocket-client>=0.44->jupyter-micropython-kernel==0.1.3) (1.10.0)\n",
    "Installing collected packages: websocket-client, jupyter-micropython-kernel\n",
    "  Running setup.py develop for jupyter-micropython-kernel\n",
    "Successfully installed jupyter-micropython-kernel websocket-client-0.48.0\n",
    "```\n",
    "\n",
    "- 下指令 `jupyter kernelspec list` 查一下目前有的kernel: \n",
    "\n",
    "```\n",
    "    Available kernels:\n",
    "      python3    C:\\Users\\Malo\\Anaconda3\\share\\jupyter\\kernels\\python3\n",
    "```\n",
    "\n",
    "- 再下指令 `python -m jupyter_micropython_kernel.install` 結果如下： \n",
    "\n",
    "```\n",
    "    Installing IPython kernel spec of micropython\n",
    "       into C:\\Users\\Malo\\AppData\\Roaming\\jupyter\\kernels\\micropython\n",
    "```\n",
    "\n",
    "- 這時用指令 `jupyter kernelspec list` 再查一下：\n",
    "\n",
    "```\n",
    "    Available kernels:\n",
    "      micropython    C:\\Users\\Malo\\AppData\\Roaming\\jupyter\\kernels\\micropython\n",
    "      python3        C:\\Users\\Malo\\Anaconda3\\share\\jupyter\\kernels\\python3\n",
    "```\n",
    "\n",
    "- 把jupyternotebook關掉重開就可以看到多了一個MicroPython的選項可以用\n",
    "![MicroPython](image/micropython-kernel.png)\n",
    "\n",
    "- 到這邊就表示可以在Jupyter Notebook上使用Micropython了"
   ]
  },
  {
   "cell_type": "markdown",
   "metadata": {},
   "source": [
    "### 以上安裝方式是在win10上的操作過程，如果你是Linux or mac環境，也許可以參考我使用rpi3安裝的過程\n",
    "\n",
    "\n",
    "- [在rpi3上安裝MicroPython kernel](https://github.com/maloyang/rpi-memo/blob/master/2018-07-01_rpi3B-install-memo.md)\n",
    "\n"
   ]
  },
  {
   "cell_type": "markdown",
   "metadata": {},
   "source": [
    "----\n",
    "## 使用說明\n",
    "\n",
    "- 先新增一個MicroPython的Notebook file\n",
    "- 以下為我的使用過程，你需要依你的com port號碼不同去調整 `--port=comXX`的參數\n",
    "- 如果是使用Linux，應該會是如 `--port=/dev/ttyUSB0` 這樣的參數\n"
   ]
  },
  {
   "cell_type": "code",
   "execution_count": 1,
   "metadata": {},
   "outputs": [
    {
     "name": "stdout",
     "output_type": "stream",
     "text": [
      "\u001b[34mConnecting to --port=com13 --baud=115200 \u001b[0m\n",
      "ap config here!\n",
      "('ap_config:', 'malo-ap\\r\\n0928380233')\n",
      "line to:  ('malo-ap', '0928380233')\n",
      "\u001b[31m[Timed out waiting for recognizable response]\n",
      "\u001b[0m\u001b[31mDisconnecting [paste mode not working]\n",
      "\u001b[0m\u001b[34m  (You may need to reset the device)\u001b[0m"
     ]
    }
   ],
   "source": [
    "%serialconnect to --port=com13 --baud=115200"
   ]
  },
  {
   "cell_type": "code",
   "execution_count": 5,
   "metadata": {},
   "outputs": [
    {
     "name": "stdout",
     "output_type": "stream",
     "text": [
      "hello esp8266\r\n"
     ]
    }
   ],
   "source": [
    "print('hello esp8266')"
   ]
  },
  {
   "cell_type": "code",
   "execution_count": null,
   "metadata": {
    "collapsed": true
   },
   "outputs": [],
   "source": [
    "from machine import Pin, Signal\n",
    "import time\n",
    "\n",
    "p2 = Pin(2, Pin.OUT) #D4\n",
    "p2.value(1)\n",
    "for i in range(6):\n",
    "    p2.value(not p2.value())\n",
    "    time.sleep(1)"
   ]
  },
  {
   "cell_type": "markdown",
   "metadata": {},
   "source": [
    "----\n",
    "\n",
    "## 使用無線的方式連線\n",
    "\n",
    "- 當MicroPython硬體上電之後，會自動連上WiFi AP (先說明有連上的操作方式)\n",
    "- 這時可以在你的WiFi清單上看到如下的 WiFi SSID 名稱\n",
    "- ![wifi-id-ip](image/device-id-ip.png)\n",
    "- 名稱「upy_A5-73-08-00_192.168.43.245」代表的是「upy_id_ip」，因此確認手上的零件袋上的id，就可以知道板子被分配的IP\n",
    "- 請在browser上打上你的板子的IP，在網頁上點一下Led ON/OFF確認是否連到正確的板子\n",
    "- ![led-on-off](image/led-on-off.png)\n",
    "- 如果沒問題，我們就可以開始寫程式了!\n",
    "- 請先使用以下流程確認是否可以在jupyter-notebook上連線、執行程式"
   ]
  },
  {
   "cell_type": "code",
   "execution_count": null,
   "metadata": {
    "collapsed": true
   },
   "outputs": [],
   "source": [
    "%websocketconnect"
   ]
  },
  {
   "cell_type": "code",
   "execution_count": 85,
   "metadata": {},
   "outputs": [
    {
     "name": "stdout",
     "output_type": "stream",
     "text": [
      "\u001b[34m** WebSocket connected **\n",
      "\u001b[0mPassword: \n",
      "WebREPL connected\n",
      ">>> \u001b[34mReady.\n",
      "\u001b[0m"
     ]
    }
   ],
   "source": [
    "%websocketconnect --password 1234 ws://192.168.50.80:8266"
   ]
  },
  {
   "cell_type": "code",
   "execution_count": 86,
   "metadata": {},
   "outputs": [
    {
     "name": "stdout",
     "output_type": "stream",
     "text": [
      "hello esp8266 from websocket\r\n"
     ]
    }
   ],
   "source": [
    "print('hello esp8266 from websocket')\n"
   ]
  },
  {
   "cell_type": "code",
   "execution_count": 87,
   "metadata": {},
   "outputs": [
    {
     "name": "stdout",
     "output_type": "stream",
     "text": [
      "."
     ]
    }
   ],
   "source": [
    "from machine import Pin\n",
    "import time\n",
    "\n",
    "p2 = Pin(2, Pin.OUT) #D4\n",
    "p2.value(1)\n",
    "for i in range(6):\n",
    "    p2.value(not p2.value())\n",
    "    time.sleep(1)"
   ]
  },
  {
   "cell_type": "markdown",
   "metadata": {},
   "source": [
    "----\n",
    "\n",
    "### [ 補充 ]\n",
    "\n",
    "經由MicroPython已被設定好的AP功能 (上課模式)\n",
    "\n",
    "- 如果沒有經由WiFi AP連到MicroPython，而是直接連到MicroPython的WiFi (如：upy_01-02-03-04_192.168.43.11)，這時：\n",
    "    - WiFi密碼預設為 12345678\n",
    "    - MicroPython的IP為 192.168.4.1\n",
    "    - 因此連線的magic command為 `%websocketconnect --password 1234 ws://192.168.4.1:8266`\n",
    "    "
   ]
  },
  {
   "cell_type": "markdown",
   "metadata": {},
   "source": [
    "----\n",
    "\n",
    "## 如何修改要連線的AP"
   ]
  },
  {
   "cell_type": "code",
   "execution_count": 78,
   "metadata": {},
   "outputs": [
    {
     "name": "stdout",
     "output_type": "stream",
     "text": [
      "\u001b[34m\n",
      "Closing websocket <websocket._core.WebSocket object at 0x02AE0C90>\n",
      "\u001b[0m\u001b[34mConnecting to --port=com4 --baud=115200 \u001b[0m\n",
      "\u001b[34mReady.\n",
      "\u001b[0m"
     ]
    }
   ],
   "source": [
    "%serialconnect to --port=com4 --baud=115200"
   ]
  },
  {
   "cell_type": "code",
   "execution_count": 79,
   "metadata": {
    "collapsed": true
   },
   "outputs": [],
   "source": [
    "ap_config_fn = 'ap.txt'"
   ]
  },
  {
   "cell_type": "code",
   "execution_count": 80,
   "metadata": {
    "collapsed": true
   },
   "outputs": [],
   "source": [
    "AP_SSID = 'ASUS6'\n",
    "AP_PWD = 'cs3229964'\n",
    "with open(ap_config_fn, 'w') as f:\n",
    "    f.write(AP_SSID+'\\n')\n",
    "    f.write(AP_PWD+'\\n')"
   ]
  },
  {
   "cell_type": "code",
   "execution_count": 81,
   "metadata": {
    "scrolled": true
   },
   "outputs": [
    {
     "name": "stdout",
     "output_type": "stream",
     "text": [
      "ap config here!\n",
      "ASUS6\n",
      "cs3229964\n",
      "\n",
      "['ASUS6', 'cs3229964', '']\n"
     ]
    }
   ],
   "source": [
    "ap_config = None\n",
    "\n",
    "print('ap config here!')\n",
    "with open(ap_config_fn, 'r') as f:\n",
    "    ap_config = f.read()\n",
    "\n",
    "print(ap_config)\n",
    "ap_config = ap_config.split('\\n')\n",
    "AP_SSID = ap_config[0].strip()\n",
    "AP_PWD = ap_config[1].strip()\n",
    "print(ap_config)"
   ]
  },
  {
   "cell_type": "markdown",
   "metadata": {},
   "source": [
    "- 修改完成，斷電動開，若有連上新的AP，連線執行程式再試試"
   ]
  },
  {
   "cell_type": "code",
   "execution_count": 2,
   "metadata": {},
   "outputs": [
    {
     "name": "stdout",
     "output_type": "stream",
     "text": [
      "\u001b[34m** WebSocket connected **\n",
      "\u001b[0mPassword: \u001b[34mReady.\n",
      "\u001b[0m"
     ]
    }
   ],
   "source": [
    "%websocketconnect --password 1234 ws://192.168.43.245:8266"
   ]
  },
  {
   "cell_type": "code",
   "execution_count": 83,
   "metadata": {},
   "outputs": [
    {
     "name": "stdout",
     "output_type": "stream",
     "text": [
      "hello esp8266 from websocket\r\n"
     ]
    }
   ],
   "source": [
    "print('hello esp8266 from websocket')"
   ]
  },
  {
   "cell_type": "code",
   "execution_count": 84,
   "metadata": {},
   "outputs": [
    {
     "name": "stdout",
     "output_type": "stream",
     "text": [
      "."
     ]
    }
   ],
   "source": [
    "from machine import Pin\n",
    "import time\n",
    "\n",
    "p2 = Pin(2, Pin.OUT) #D4\n",
    "p2.value(1)\n",
    "for i in range(6):\n",
    "    p2.value(not p2.value())\n",
    "    time.sleep(1)"
   ]
  },
  {
   "cell_type": "markdown",
   "metadata": {},
   "source": [
    "## 一些magic command的說明"
   ]
  },
  {
   "cell_type": "code",
   "execution_count": 3,
   "metadata": {
    "scrolled": false
   },
   "outputs": [
    {
     "name": "stdout",
     "output_type": "stream",
     "text": [
      "%capture [--quiet] [--QUIET] outputfilename\n",
      "    records output to a file\n",
      "\n",
      "%comment\n",
      "    print this into output\n",
      "\n",
      "%disconnect [--raw]\n",
      "    disconnects from web/serial connection\n",
      "\n",
      "%esptool [--port PORT] {erase,esp32,esp8266} [binfile]\n",
      "    commands for flashing your esp-device\n",
      "\n",
      "%fetchfile [--binary] [--print] [--quiet] [--QUIET]\n",
      "                  sourcefilename [destinationfilename]\n",
      "    fetch and save a file from the device\n",
      "\n",
      "%lsmagic\n",
      "    list magic commands\n",
      "\n",
      "%mpy-cross [--set-exe SET_EXE] [pyfile]\n",
      "    cross-compile a .py file to a .mpy file\n",
      "\n",
      "%readbytes\n",
      "    does serial.read_all()\n",
      "\n",
      "%readbytes [--binary]\n",
      "    does serial.read_all()\n",
      "\n",
      "%rebootdevice\n",
      "    reboots device\n",
      "\n",
      "%sendtofile [--append] [--mkdir] [--binary] [--execute]\n",
      "                   [--source [SOURCE]] [--quiet] [--QUIET]\n",
      "                   [destinationfilename]\n",
      "    send cell contents or file/direcectory to the device\n",
      "\n",
      "%serialconnect [--raw] [--port PORT] [--baud BAUD] [--verbose]\n",
      "    connects to a device over USB wire\n",
      "\n",
      "%socketconnect [--raw] ipnumber portnumber\n",
      "    connects to a socket of a device over wifi\n",
      "\n",
      "%suppressendcode\n",
      "    doesn't send x04 or wait to read after sending the contents of the cell\n",
      "  (assists for debugging using %writebytes and %readbytes)\n",
      "\n",
      "%websocketconnect [--raw] [--password PASSWORD] [--verbose]\n",
      "                         [websocketurl]\n",
      "    connects to the webREPL websocket of an ESP8266 over wifi\n",
      "    websocketurl defaults to ws://192.168.4.1:8266 but be sure to be connected\n",
      "\n",
      "%writebytes [--binary] [--verbose] stringtosend\n",
      "    does serial.write() of the python quoted string given\n",
      "\n",
      "%%writefile [--append] [--execute] destinationfilename\n",
      "    write contents of cell to a file\n",
      "\n"
     ]
    }
   ],
   "source": [
    "%lsmagic"
   ]
  },
  {
   "cell_type": "markdown",
   "metadata": {},
   "source": [
    "- 用serial連線"
   ]
  },
  {
   "cell_type": "code",
   "execution_count": null,
   "metadata": {
    "collapsed": true
   },
   "outputs": [],
   "source": [
    "%serialconnect to --port=com13 --baud=115200"
   ]
  },
  {
   "cell_type": "markdown",
   "metadata": {},
   "source": [
    "- 用websocket連線"
   ]
  },
  {
   "cell_type": "code",
   "execution_count": null,
   "metadata": {
    "collapsed": true
   },
   "outputs": [],
   "source": [
    "%websocketconnect --password 1234 ws://192.168.43.245:8266"
   ]
  },
  {
   "cell_type": "markdown",
   "metadata": {},
   "source": [
    "- 把程式、檔案燒錄進去"
   ]
  },
  {
   "cell_type": "code",
   "execution_count": 4,
   "metadata": {},
   "outputs": [
    {
     "name": "stdout",
     "output_type": "stream",
     "text": [
      "Sent 22 lines (337 bytes) to main.py.\n"
     ]
    }
   ],
   "source": [
    "%sendtofile main.py\n",
    "\n",
    "# 定義\n",
    "import machine\n",
    "from machine import Pin\n",
    "from machine import PWM\n",
    "import time\n",
    "\n",
    "# PIN Define:\n",
    "D0 = 16\n",
    "D1 = 5  #PWM\n",
    "D2 = 4  #PWM\n",
    "D3 = 0  #PWM\n",
    "D4 = 2  #PWM, #Led on board\n",
    "D5 = 14 #PWM\n",
    "D6 = 12 #PWM\n",
    "D7 = 13 #PWM\n",
    "D8 = 15 #PWM\n",
    "\n",
    "#Setup PINS\n",
    "led = machine.Pin(2, machine.Pin.OUT)\n",
    "while(True):\n",
    "    led.value(not led.value())\n",
    "    time.sleep(0.5)\n"
   ]
  },
  {
   "cell_type": "markdown",
   "metadata": {},
   "source": [
    "- %%writefile這一個指令是指寫到電腦端"
   ]
  },
  {
   "cell_type": "code",
   "execution_count": null,
   "metadata": {
    "collapsed": true
   },
   "outputs": [],
   "source": [
    "%%writefile ap.txt\n",
    "\n",
    "my-ap-name\n",
    "my-password"
   ]
  },
  {
   "cell_type": "markdown",
   "metadata": {},
   "source": [
    "- reboot -->這指令測起來不太靈光，我都使用「RST」鈕，或直接重上電"
   ]
  },
  {
   "cell_type": "code",
   "execution_count": 6,
   "metadata": {
    "scrolled": true
   },
   "outputs": [
    {
     "name": "stdout",
     "output_type": "stream",
     "text": [
      "normal repl mode not detected \n",
      "not command mode\n",
      "\u001b[31m[Timed out waiting for recognizable response]\n",
      "\u001b[0m"
     ]
    }
   ],
   "source": [
    "%rebootdevice"
   ]
  },
  {
   "cell_type": "markdown",
   "metadata": {},
   "source": [
    "- esptool (燒錄)\n",
    "\n",
    "```\n",
    "%esptool [--port PORT] {erase,esp32,esp8266} [binfile]\n",
    "    commands for flashing your esp-device\n",
    "```\n",
    "%serialconnect to --port=com13 --baud=115200"
   ]
  },
  {
   "cell_type": "markdown",
   "metadata": {},
   "source": [
    "### 燒錄firmware相關指令"
   ]
  },
  {
   "cell_type": "markdown",
   "metadata": {},
   "source": [
    "#### 本來的指令格式 esptool.py --port com12 erase_flash"
   ]
  },
  {
   "cell_type": "code",
   "execution_count": 9,
   "metadata": {
    "scrolled": false
   },
   "outputs": [
    {
     "name": "stdout",
     "output_type": "stream",
     "text": [
      "\u001b[34mExecuting:\n",
      "  esptool --port com13 erase_flash\n",
      "\n",
      "\u001b[0mesptool.py v2.5.0\n",
      "Serial port com13\n",
      "Connecting....\n",
      "\u001b[34m[Press the PRG button now if required]\n",
      "\u001b[0mDetecting chip type... ESP8266\n",
      "Chip is ESP8266EX\n",
      "Features: WiFi\n",
      "MAC: 2c:3a:e8:08:73:a5\n",
      "Uploading stub...\n",
      "Running stub...\n",
      "Stub running...\n",
      "Erasing flash (this may take a while)...\n",
      "Chip erase completed successfully in 6.4s\n",
      "Hard resetting via RTS pin...\n"
     ]
    }
   ],
   "source": [
    "%esptool --port=com13 erase"
   ]
  },
  {
   "cell_type": "code",
   "execution_count": 12,
   "metadata": {},
   "outputs": [
    {
     "name": "stdout",
     "output_type": "stream",
     "text": [
      "\u001b[34mExecuting:\n",
      "  esptool --port com7 erase_flash\n",
      "\n",
      "\u001b[0mesptool.py v2.5.0\n",
      "Serial port com7\n",
      "Connecting....\n",
      "\u001b[34m[Press the PRG button now if required]\n",
      "\u001b[0mDetecting chip type... ESP8266\n",
      "Chip is ESP8266EX\n",
      "Features: WiFi\n",
      "MAC: 2c:3a:e8:22:22:5b\n",
      "Uploading stub...\n",
      "Running stub...\n",
      "Stub running...\n",
      "Erasing flash (this may take a while)...\n",
      "Chip erase completed successfully in 6.7s\n",
      "Hard resetting via RTS pin...\n"
     ]
    }
   ],
   "source": [
    "%esptool --port=com7 erase"
   ]
  },
  {
   "cell_type": "markdown",
   "metadata": {},
   "source": [
    "#### 本來的指令格式 esptool.py --port com12 --baud 460800 write_flash --flash_size=detect -fm dio 0 py-esp8266-20170108-v1.8.7.bin"
   ]
  },
  {
   "cell_type": "code",
   "execution_count": 10,
   "metadata": {},
   "outputs": [
    {
     "name": "stdout",
     "output_type": "stream",
     "text": [
      "usage: %esptool [--port PORT] {erase,esp32,esp8266} [binfile]\n",
      "\n",
      "positional arguments:\n",
      "  {erase,esp32,esp8266}\n",
      "  binfile\n",
      "\n",
      "optional arguments:\n",
      "  --port PORT\n",
      "Please download the bin file from https://micropython.org/download/#"
     ]
    }
   ],
   "source": [
    "%esptool --port=com13 esp8266-20180511-v1.9.4.bin"
   ]
  },
  {
   "cell_type": "code",
   "execution_count": 15,
   "metadata": {
    "scrolled": false
   },
   "outputs": [
    {
     "name": "stdout",
     "output_type": "stream",
     "text": [
      "\u001b[34mExecuting:\n",
      "  esptool --port com7 --baud 460800 write_flash --flash_size=detect -fm dio 0 esp8266-20180511-v1.9.4.bin\n",
      "\n",
      "\u001b[0mesptool.py v2.5.0\n",
      "Serial port com7\n",
      "Connecting....\n",
      "\u001b[34m[Press the PRG button now if required]\n",
      "\u001b[0mDetecting chip type... ESP8266\n",
      "Chip is ESP8266EX\n",
      "Features: WiFi\n",
      "MAC: 2c:3a:e8:22:22:5b\n",
      "Uploading stub...\n",
      "Running stub...\n",
      "Stub running...\n",
      "Changing baud rate to 460800\n",
      "Changed.\n",
      "Configuring flash size...\n",
      "Auto-detected Flash size: 4MB\n",
      "Flash params set to 0x0240\n",
      "Compressed 604872 bytes to 394893...\n",
      "Wrote 604872 bytes (394893 compressed) at 0x00000000 in 9.4 seconds (effective 517.3 kbit/s)...\n",
      "Hash of data verified.\n",
      "\n",
      "Leaving...\n",
      "Hard resetting via RTS pin...\n"
     ]
    }
   ],
   "source": [
    "%esptool --port=com7 esp8266 esp8266-20180511-v1.9.4.bin"
   ]
  },
  {
   "cell_type": "markdown",
   "metadata": {},
   "source": [
    "### 燒完MicroPython Firmware後就可以寫入程式了"
   ]
  },
  {
   "cell_type": "code",
   "execution_count": 17,
   "metadata": {},
   "outputs": [
    {
     "name": "stdout",
     "output_type": "stream",
     "text": [
      "\u001b[34mConnecting to --port=com7 --baud=115200 \u001b[0m\n",
      "\u001b[34mReady.\n",
      "\u001b[0m"
     ]
    }
   ],
   "source": [
    "%serialconnect to --port=com7 --baud=115200"
   ]
  },
  {
   "cell_type": "code",
   "execution_count": 20,
   "metadata": {},
   "outputs": [
    {
     "name": "stdout",
     "output_type": "stream",
     "text": [
      "Sent 2 lines (18 bytes) to ap.txt.\n"
     ]
    }
   ],
   "source": [
    "%sendtofile ap.txt\n",
    "\n",
    "malo-ap\n",
    "0928380233"
   ]
  },
  {
   "cell_type": "code",
   "execution_count": 19,
   "metadata": {},
   "outputs": [
    {
     "name": "stdout",
     "output_type": "stream",
     "text": [
      "Sent 158 lines (3601 bytes) to main.py.\n"
     ]
    }
   ],
   "source": [
    "%sendtofile main.py\n",
    "\n",
    "# -*- coding: utf-8 -*-\n",
    "\n",
    "import machine\n",
    "import network\n",
    "import time\n",
    "import os\n",
    "\n",
    "#- check ap config file\n",
    "AP_SSID = 'upy'\n",
    "AP_PWD = 'pypypypy'\n",
    "ap_config = None\n",
    "ap_config_fn = 'ap.txt'\n",
    "if ap_config_fn in os.listdir():\n",
    "    print('ap config here!')\n",
    "    f = open(ap_config_fn)\n",
    "    ap_config = f.read()\n",
    "    f.close()\n",
    "if ap_config:\n",
    "    print( ('ap_config:', ap_config))\n",
    "    ap_config = ap_config.split('\\n')\n",
    "    AP_SSID = ap_config[0].strip()\n",
    "    AP_PWD = ap_config[1].strip()\n",
    "print('line to: ', (AP_SSID, AP_PWD))\n",
    "\n",
    "#-- 連到AP 為Station\n",
    "sta_if = network.WLAN(network.STA_IF)\n",
    "sta_if.active(True)\n",
    "sta_if.connect(AP_SSID, AP_PWD)\n",
    "sta_if.isconnected()\n",
    "for i in range(20):\n",
    "    time.sleep(0.5)\n",
    "    if sta_if.isconnected():\n",
    "        break\n",
    "sta_ip = ''\n",
    "if sta_if.isconnected():\n",
    "    print('connected!  --> ', sta_if.ifconfig())\n",
    "    sta_ip = sta_if.ifconfig()[0]\n",
    "else:\n",
    "    print('not connected!  --> ', sta_if.ifconfig())\n",
    "\n",
    "#-- 當AP，並指定\n",
    "uid = machine.unique_id()\n",
    "#ap_if.ifconfig()\n",
    "# ('192.168.4.1', '255.255.255.0', '192.168.4.1', '192.168.43.1')\n",
    "# (ip, mask, gateway, dns)\n",
    "my_sn = '%02X-%02X-%02X-%02X' %(uid[0], uid[1], uid[2], uid[3])\n",
    "\n",
    "#- Change name/password/ip of ESP8266's AP:\n",
    "ap_if = network.WLAN(network.AP_IF)\n",
    "#ap_if.ifconfig([my_ip, my_mask, my_gw, my_dns])\n",
    "\n",
    "my_ssid = 'upy_%s_%s' %(my_sn, sta_ip)\n",
    "#ap_if.config(essid = my_ssid)#改ssid，馬上生效\n",
    "ap_if.config(essid=my_ssid, authmode=network.AUTH_WPA_WPA2_PSK, password=\"12345678\")\n",
    "#DHCP 功能micropython預設就有，不用設定\n",
    "#AP的IP，每次重開都會回到預設值，因此需要開機時就設定\n",
    "#一般是配給AP ip的下一號ip\n",
    "\n",
    "\n",
    "import socket\n",
    "from machine import Pin\n",
    "from machine import PWM\n",
    "import dht\n",
    "#from hcsr04 import HCSR04\n",
    "\n",
    "def Tune(buzzer, freq=262, t=500, duty=512):\n",
    "    ''' t: ms '''\n",
    "    if freq==0:\n",
    "        buzzer.duty(0)\n",
    "    else:\n",
    "        buzzer.duty(duty)\n",
    "    buzzer.freq(freq)\n",
    "    time.sleep_ms(t)\n",
    "\n",
    "\n",
    "# PIN Define:\n",
    "D0 = 16\n",
    "D1 = 5  #PWM\n",
    "D2 = 4  #PWM\n",
    "D3 = 0  #PWM\n",
    "D4 = 2  #PWM, #Led on board\n",
    "D5 = 14 #PWM\n",
    "D6 = 12 #PWM\n",
    "D7 = 13 #PWM\n",
    "D8 = 15 #PWM\n",
    "\n",
    "#Setup PINS\n",
    "led = machine.Pin(2, machine.Pin.OUT)\n",
    "\n",
    "# buzzer\n",
    "NOTE_C4=262\n",
    "NOTE_D4=294\n",
    "NOTE_E4=330\n",
    "NOTE_F4=349\n",
    "NOTE_G4=392\n",
    "NOTE_A4=440\n",
    "NOTE_B4=494\n",
    "buzzer = PWM(Pin(D2), freq=1000, duty=0)\n",
    "\n",
    "\n",
    "# th_sensor\n",
    "th_sensor = dht.DHT11(Pin(D1))\n",
    "\n",
    "\n",
    "#Setup Socket WebServer\n",
    "s = socket.socket(socket.AF_INET, socket.SOCK_STREAM)\n",
    "s.bind(('0.0.0.0', 80))\n",
    "s.listen(5)\n",
    "while True:\n",
    "    conn, addr = s.accept()\n",
    "    print(\"Got a connection from %s\" % str(addr))\n",
    "    request = conn.recv(1024)\n",
    "    print(\"Content = %s\" % str(request))\n",
    "\n",
    "    request = str(request)\n",
    "    led_on = request.find('GET /?LED=ON')\n",
    "    led_off = request.find('GET /?LED=OFF')\n",
    "    buzzer_on = request.find('GET /?buzzer=on')\n",
    "    buzzer_off = request.find('GET /?buzzer=off')\n",
    "    th_sensor_read = request.find('GET /?th_sensor=read')\n",
    "\n",
    "\n",
    "    if led_on >= 0:\n",
    "        print('TURN Led ON')\n",
    "        led.value(0)\n",
    "    if led_off >= 0:\n",
    "        print('TURN Led OFF')\n",
    "        led.value(1)\n",
    "    if buzzer_on >= 0:\n",
    "        print('buzzer on')\n",
    "        Tune(buzzer, NOTE_C4, 10)\n",
    "    if buzzer_off >= 0:\n",
    "        print('buzzer off')\n",
    "        Tune(buzzer, 0, 10)\n",
    "\n",
    "    my_t = None\n",
    "    if th_sensor_read >= 0:\n",
    "        print('th_sensor read')\n",
    "        th_sensor.measure()\n",
    "        my_t = th_sensor.temperature()\n",
    "        print('T=', th_sensor.temperature())\n",
    "        print('H=', th_sensor.humidity())\n",
    "\n",
    "    f = open('webtool.html')\n",
    "\n",
    "    while(1):\n",
    "        html = f.read(1024)\n",
    "\n",
    "        if my_t:\n",
    "            html = html.replace('T=?degree', 'T=%d degree' %(my_t))\n",
    "        else:\n",
    "            html = html.replace('T=?degree', '')\n",
    "        #conn.send(html)\n",
    "        conn.sendall(html) #改用send all就不會有資料傳一半的問題\n",
    "        if(len(html)<=0):\n",
    "            break\n",
    "    f.close()\n",
    "    conn.close()\n"
   ]
  },
  {
   "cell_type": "code",
   "execution_count": 21,
   "metadata": {},
   "outputs": [
    {
     "name": "stdout",
     "output_type": "stream",
     "text": [
      "Sent 44 lines (940 bytes) to webtool.html.\n"
     ]
    }
   ],
   "source": [
    "%sendtofile webtool.html\n",
    "\n",
    "<!DOCTYPE html>\n",
    "<html>\n",
    "<head> <title>upy webserver</title> </head>\n",
    "<center><h2>upy webserver</h2></center>\n",
    "<h3>\n",
    "webREPL: <a href=\"http://micropython.org/webrepl/\" target=\"_blank\">webrepl</a>\n",
    "<br>\n",
    "Doc: <a href=\"https://docs.micropython.org/en/latest/esp8266/esp8266/quickref.html\" target=\"_blank\">Quick reference</a>\n",
    "</h3>\n",
    "<hr>\n",
    "\n",
    "<form>\n",
    "<b>LED (D4):</b><br>\n",
    "<button name=\"LED\" value=\"ON\" type=\"submit\">ON</button><br>\n",
    "<button name=\"LED\" value=\"OFF\" type=\"submit\">OFF</button><br>\n",
    "</form>\n",
    "\n",
    "<form>\n",
    "<b>Buzzer (D2):</b><br>\n",
    "<button name=\"buzzer\" value=\"on\" type=\"submit\">ON</button><br>\n",
    "<button name=\"buzzer\" value=\"off\" type=\"submit\">OFF</button><br>\n",
    "</form>\n",
    "\n",
    "<form>\n",
    "<b>T/H sensor (D1):</b><br>\n",
    "<button name=\"th_sensor\" value=\"read\" type=\"submit\">Read</button><br>\n",
    "T=?degree\n",
    "</form>\n",
    "\n",
    "<hr>\n",
    "GPIO Info. :<br>\n",
    "<pre>\n",
    "D0 = 16\n",
    "D1 = 5  #DHT11, T/H Sensor\n",
    "D2 = 4  #Buzzer\n",
    "D3 = 0  \n",
    "D4 = 2  #Led on board\n",
    "D5 = 14 \n",
    "D6 = 12 \n",
    "D7 = 13 \n",
    "D8 = 15 \n",
    "</pre>\n",
    "\n",
    "</html>"
   ]
  },
  {
   "cell_type": "markdown",
   "metadata": {},
   "source": []
  }
 ],
 "metadata": {
  "kernelspec": {
   "display_name": "MicroPython - USB",
   "language": "micropython",
   "name": "micropython"
  },
  "language_info": {
   "codemirror_mode": "python",
   "file_extension": ".py",
   "mimetype": "text/python",
   "name": "micropython"
  }
 },
 "nbformat": 4,
 "nbformat_minor": 2
}
