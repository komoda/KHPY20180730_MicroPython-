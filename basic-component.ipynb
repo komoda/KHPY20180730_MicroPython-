{
 "cells": [
  {
   "cell_type": "markdown",
   "metadata": {},
   "source": [
    "### 腳位定義\n",
    "- LED (D4)\n",
    "- Buzzer (D2)\n",
    "- T/H sensor (D1)\n",
    "- 光遮斷器 (D0)\n",
    "- PIR (D5)\n",
    "- 超音波sensor (D7, D8)-->(Trig, Echo)\n",
    "- 注意!! (D3)接buzzer上電後會有問題"
   ]
  },
  {
   "cell_type": "code",
   "execution_count": null,
   "metadata": {
    "collapsed": true
   },
   "outputs": [],
   "source": [
    "%websocketconnect --password 1234 ws://192.168.43.245:8266"
   ]
  },
  {
   "cell_type": "code",
   "execution_count": 2,
   "metadata": {
    "scrolled": true
   },
   "outputs": [
    {
     "name": "stdout",
     "output_type": "stream",
     "text": [
      "\u001b[34mConnecting to --port=com13 --baud=115200 \u001b[0m\n",
      "\u001b[34mReady.\n",
      "\u001b[0m"
     ]
    }
   ],
   "source": [
    "%serialconnect to --port=com13 --baud=115200"
   ]
  },
  {
   "cell_type": "code",
   "execution_count": 3,
   "metadata": {
    "collapsed": true
   },
   "outputs": [],
   "source": [
    "# 定義\n",
    "import machine\n",
    "from machine import Pin\n",
    "from machine import PWM\n",
    "import time\n",
    "\n",
    "# PIN Define:\n",
    "D0 = 16\n",
    "D1 = 5  #PWM\n",
    "D2 = 4  #PWM\n",
    "D3 = 0  #PWM\n",
    "D4 = 2  #PWM, #Led on board\n",
    "D5 = 14 #PWM\n",
    "D6 = 12 #PWM\n",
    "D7 = 13 #PWM\n",
    "D8 = 15 #PWM\n"
   ]
  },
  {
   "cell_type": "markdown",
   "metadata": {},
   "source": [
    "## Led"
   ]
  },
  {
   "cell_type": "code",
   "execution_count": 4,
   "metadata": {},
   "outputs": [
    {
     "name": "stdout",
     "output_type": "stream",
     "text": [
      "."
     ]
    }
   ],
   "source": [
    "# Led ON/OFF 3次\n",
    "from machine import Pin\n",
    "import time\n",
    "\n",
    "p2 = Pin(2, Pin.OUT) #D4\n",
    "p2.value(1)\n",
    "for i in range(6):\n",
    "    p2.value(not p2.value())\n",
    "    time.sleep(1)"
   ]
  },
  {
   "cell_type": "markdown",
   "metadata": {},
   "source": [
    "## 光遮斷器"
   ]
  },
  {
   "cell_type": "code",
   "execution_count": 5,
   "metadata": {},
   "outputs": [
    {
     "name": "stdout",
     "output_type": "stream",
     "text": [
      "0\n",
      "0\n",
      "1\n",
      "0\n",
      "0\n",
      "1\n"
     ]
    }
   ],
   "source": [
    "from machine import Pin\n",
    "import time\n",
    "\n",
    "p0 = Pin(D0, Pin.IN)\n",
    "\n",
    "for i in range(6):\n",
    "    print(p0.value())\n",
    "    time.sleep(1)"
   ]
  },
  {
   "cell_type": "markdown",
   "metadata": {},
   "source": [
    "## PIR"
   ]
  },
  {
   "cell_type": "code",
   "execution_count": 6,
   "metadata": {
    "scrolled": true
   },
   "outputs": [
    {
     "name": "stdout",
     "output_type": "stream",
     "text": [
      ".\u001b[34m\n",
      "\n",
      "*** Sending Ctrl-C\n",
      "\n",
      "\u001b[0m"
     ]
    },
    {
     "name": "stderr",
     "output_type": "stream",
     "text": [
      "Traceback (most recent call last):\n",
      "  File \"<stdin>\", line 5, in <module>\n",
      "KeyboardInterrupt: \n"
     ]
    }
   ],
   "source": [
    "from machine import Pin\n",
    "import time\n",
    "\n",
    "p5 = Pin(D5, Pin.IN)\n",
    "time.sleep(60) #初始化要60秒!?\n",
    "print('start!')\n",
    "\n",
    "for i in range(30):\n",
    "    print(p5.value())\n",
    "    time.sleep(1)"
   ]
  },
  {
   "cell_type": "markdown",
   "metadata": {},
   "source": [
    "## NeoPixels (WS2812B)\n"
   ]
  },
  {
   "cell_type": "code",
   "execution_count": 7,
   "metadata": {
    "collapsed": true
   },
   "outputs": [],
   "source": [
    "import machine, neopixel\n",
    "np = neopixel.NeoPixel(machine.Pin(D6), 8)\n",
    "np[0] = (32, 0, 0) # set to red #255為全亮\n",
    "np[1] = (0, 16, 0) # set to green, half brightness\n",
    "np[2] = (0, 0, 8)  # set to blue, quarter brightness\n",
    "np.write()"
   ]
  },
  {
   "cell_type": "code",
   "execution_count": 8,
   "metadata": {},
   "outputs": [
    {
     "name": "stdout",
     "output_type": "stream",
     "text": [
      "..."
     ]
    }
   ],
   "source": [
    "for i in range(32):\n",
    "    for j in range(8):\n",
    "        k = (j+(i))%3\n",
    "        if(k==0):\n",
    "            np[j] = (i, 0, 0)\n",
    "        if(k==1):\n",
    "            np[j] = (0, i, 0)\n",
    "        if(k==2):\n",
    "            np[j] = (0, 0, i)\n",
    "    np.write()\n",
    "    time.sleep(0.5)"
   ]
  },
  {
   "cell_type": "code",
   "execution_count": 9,
   "metadata": {},
   "outputs": [
    {
     "name": "stdout",
     "output_type": "stream",
     "text": [
      "."
     ]
    }
   ],
   "source": [
    "for i in range(32):\n",
    "    for j in range(8):\n",
    "        k = (j+(i))%8\n",
    "        if(k==0):\n",
    "            np[j] = (i, 0, 0)\n",
    "        if(k==1):\n",
    "            np[j] = (0, i, 0)\n",
    "        if(k==2):\n",
    "            np[j] = (0, 0, i)\n",
    "        if(k==3):\n",
    "            np[j] = (i, i, 0)\n",
    "        if(k==4):\n",
    "            np[j] = (0, i, i)\n",
    "        if(k==5):\n",
    "            np[j] = (i, 0, i)\n",
    "        if(k==6):\n",
    "            np[j] = (i, i, i)\n",
    "        if(k==7):\n",
    "            np[j] = (0, 0, 0)\n",
    "    np.write()\n",
    "    time.sleep(0.2)"
   ]
  },
  {
   "cell_type": "code",
   "execution_count": 10,
   "metadata": {
    "collapsed": true
   },
   "outputs": [],
   "source": [
    "# 全暗\n",
    "for i in range(8):\n",
    "    np[i] = (0, 0, 0)\n",
    "np.write()"
   ]
  },
  {
   "cell_type": "code",
   "execution_count": 11,
   "metadata": {},
   "outputs": [
    {
     "name": "stdout",
     "output_type": "stream",
     "text": [
      "."
     ]
    }
   ],
   "source": [
    "import time\n",
    "\n",
    "def demo(np):\n",
    "    n = np.n\n",
    "\n",
    "    # cycle\n",
    "    for i in range(4 * n):\n",
    "        for j in range(n):\n",
    "            np[j] = (0, 0, 0)\n",
    "        np[i % n] = (255, 255, 255)\n",
    "        np.write()\n",
    "        time.sleep_ms(25)\n",
    "\n",
    "    # bounce\n",
    "    for i in range(4 * n):\n",
    "        for j in range(n):\n",
    "            np[j] = (0, 0, 128)\n",
    "        if (i // n) % 2 == 0:\n",
    "            np[i % n] = (0, 0, 0)\n",
    "        else:\n",
    "            np[n - 1 - (i % n)] = (0, 0, 0)\n",
    "        np.write()\n",
    "        time.sleep_ms(60)\n",
    "\n",
    "    # fade in/out\n",
    "    for i in range(0, 4 * 256, 8):\n",
    "        for j in range(n):\n",
    "            if (i // 256) % 2 == 0:\n",
    "                val = i & 0xff\n",
    "            else:\n",
    "                val = 255 - (i & 0xff)\n",
    "            np[j] = (val, 0, 0)\n",
    "        np.write()\n",
    "\n",
    "    # clear\n",
    "    for i in range(n):\n",
    "        np[i] = (0, 0, 0)\n",
    "    np.write()\n",
    "\n",
    "demo(np)    "
   ]
  },
  {
   "cell_type": "markdown",
   "metadata": {},
   "source": [
    "## 蜂鳴器\n",
    "\n",
    "- 有源 vs 無源? (active vs passive)\n",
    "- 本課程使用的為「無源蜂鳴器」 (passive buzzer)\n",
    "- 腳位(D3 -> GPIO0)\n",
    "\n",
    "*** ESP8266 的 PWM 最高只能到 1000 Hz, C6 (1046 Hz) 以上的聲音是無法發出來的"
   ]
  },
  {
   "cell_type": "code",
   "execution_count": 12,
   "metadata": {},
   "outputs": [
    {
     "name": "stdout",
     "output_type": "stream",
     "text": [
      ".."
     ]
    }
   ],
   "source": [
    "# 電話鈴聲\n",
    "\n",
    "from machine import Pin,PWM\n",
    "import time\n",
    "\n",
    "def ringTone(pwm):\n",
    "    for i in range(1,11):\n",
    "        pwm.freq(1000)\n",
    "        pwm.duty(512)\n",
    "        time.sleep_ms(50)\n",
    "        pwm.freq(500)\n",
    "        time.sleep_ms(50)\n",
    "    pwm.deinit()\n",
    "    time.sleep(2)\n",
    "\n",
    "pwm=PWM(Pin(4)) #D2\n",
    "\n",
    "for i in range(4):\n",
    "    ringTone(pwm)"
   ]
  },
  {
   "cell_type": "code",
   "execution_count": 34,
   "metadata": {},
   "outputs": [
    {
     "name": "stdout",
     "output_type": "stream",
     "text": [
      "...."
     ]
    }
   ],
   "source": [
    "# 暖暖，前半部\n",
    "\n",
    "from machine import Pin,PWM\n",
    "import time\n",
    "\n",
    "C4=262\n",
    "CS4=277\n",
    "D4=294\n",
    "DS4=311\n",
    "E4=330\n",
    "F4=349\n",
    "FS4=370\n",
    "G4=392\n",
    "GS4=415\n",
    "A4=440\n",
    "AS4=466\n",
    "B4=494\n",
    "C5=523\n",
    "#CS5=554\n",
    "D5=587\n",
    "#DS5=622\n",
    "E5=659\n",
    "F5=698\n",
    "#FS5=740\n",
    "G5=784\n",
    "#GS5=831\n",
    "A5=880\n",
    "#AS5=932\n",
    "B5=988\n",
    "\n",
    "note=(G4, C5, D5, D5, E5, E5, D5, E5, E5, \n",
    "      D5, E5, G5, E5, C5, C5, G4, A4, E5, D5, C5, D5,\n",
    "      E5, 0 , G4, C5, D5, D5, E5, E5, D5, E5, E5, \n",
    "      D5, E5, G5, E5, C5, C5, B4, A4, E5, D5, C5, D5, \n",
    "      C5,\n",
    "      )\n",
    "duration=(8, 8, 8, 8, 8, 4, 8, 8, 4, \n",
    "          8, 8, 8, 8, 4, 8, 8, 3, 8, 4, 8, 8, \n",
    "          2, 8, 8, 8, 8, 8, 8, 4, 8, 8, 4,\n",
    "          8, 8, 8, 8, 4, 8, 8, 3, 8, 4, 8, 8, \n",
    "          1,\n",
    "          )\n",
    "\n",
    "def tone(pwm,note,duration):\n",
    "    if note>0:\n",
    "        pwm.freq(note)           \n",
    "        pwm.duty(512)\n",
    "    time.sleep_ms(duration)\n",
    "    pwm.deinit()\n",
    "    time.sleep_ms(int(duration/4))\n",
    "\n",
    "def music(pwm):\n",
    "    for i in range(0,len(note)):\n",
    "        d=int(1000/duration[i])\n",
    "        tone(pwm, note[i], d*2)\n",
    "        #p=int(d*1.3)\n",
    "        #time.sleep_ms(p)\n",
    "    time.sleep(1)\n",
    "\n",
    "#pwm=PWM(Pin(0)) #D3\n",
    "pwm=PWM(Pin(4)) #D2\n",
    "\n",
    "for i in range(1):\n",
    "    music(pwm)"
   ]
  },
  {
   "cell_type": "markdown",
   "metadata": {},
   "source": [
    "## 溫溼度感測器\n"
   ]
  },
  {
   "cell_type": "code",
   "execution_count": 13,
   "metadata": {},
   "outputs": [
    {
     "name": "stdout",
     "output_type": "stream",
     "text": [
      "T=29, H=95\r\n"
     ]
    }
   ],
   "source": [
    "# upy to read temperature, humidity\n",
    "\n",
    "import dht\n",
    "from machine import Pin\n",
    "\n",
    "d = dht.DHT11(Pin(5)) #D1\n",
    "d.measure()\n",
    "T = d.temperature() # eg. 23 (℃)\n",
    "H = d.humidity()    # eg. 41 (% RH)\n",
    "print(\"T=%s, H=%s\" %(T, H))\n"
   ]
  },
  {
   "cell_type": "markdown",
   "metadata": {},
   "source": [
    "## 超音波\n",
    "\n",
    "- HC-SR04"
   ]
  },
  {
   "cell_type": "code",
   "execution_count": 14,
   "metadata": {
    "collapsed": true
   },
   "outputs": [],
   "source": [
    "# 定義\n",
    "from machine import Pin\n",
    "from machine import PWM\n",
    "import time\n",
    "\n",
    "# PIN Define:\n",
    "D0 = 16\n",
    "D1 = 5  #PWM\n",
    "D2 = 4  #PWM\n",
    "D3 = 0  #PWM\n",
    "D4 = 2  #PWM, #Led on board\n",
    "D5 = 14 #PWM\n",
    "D6 = 12 #PWM\n",
    "D7 = 13 #PWM\n",
    "D8 = 15 #PWM\n"
   ]
  },
  {
   "cell_type": "code",
   "execution_count": 15,
   "metadata": {
    "scrolled": true
   },
   "outputs": [
    {
     "name": "stdout",
     "output_type": "stream",
     "text": [
      "999 cm\n",
      "999 cm\n",
      "999 cm\n",
      ".50.9828 cm\n",
      "10.1379 cm\n",
      "12.2069 cm\n",
      "10.3793 cm\n",
      "10.1379 cm\n",
      "\u001b[34m\n",
      "\n",
      "*** Sending Ctrl-C\n",
      "\n",
      "\u001b[0m.37931 cm\n"
     ]
    },
    {
     "name": "stderr",
     "output_type": "stream",
     "text": [
      "Traceback (most recent call last):\n",
      "  File \"<stdin>\", line 48, in <module>\n",
      "KeyboardInterrupt: \n"
     ]
    }
   ],
   "source": [
    "# 340m/s --> 340000mm/s --> 1mm需要2.94 us\n",
    "# 340m/s --> 34000cm/s --> 1cm要29.4us --> 去回，所以除以(29.4*2)=58.8，但手冊是寫58us為1cm\n",
    "# 所以如果目標是50cm內的量測距離 --> 50*58=2900us為最長時間\n",
    "# timeout回傳0，很怪，應該給個大數字比較好，比如999\n",
    "\n",
    "import time\n",
    "from machine import Pin\n",
    "\n",
    "def ping(trigPin, echoPin):\n",
    "    '''\n",
    "        return: distance (cm)\n",
    "    '''\n",
    "    trig=Pin(trigPin, Pin.OUT)\n",
    "    echo=Pin(echoPin, Pin.IN)\n",
    "    trig.value(1)\n",
    "    time.sleep_us(10)\n",
    "    trig.value(0)\n",
    "    timeout=False\n",
    "    tm_start=time.ticks_us() \n",
    "    while not echo.value(): #wait for HIGH, 3000us timeout\n",
    "        if(time.ticks_diff(time.ticks_us(), tm_start)>3000):\n",
    "            timeout=True\n",
    "            break\n",
    "    if timeout: #timeout return 0\n",
    "        pass\n",
    "    else: #got HIGH pulse:calculate duration\n",
    "        tm_start=time.ticks_us()\n",
    "        tm_delta = 0\n",
    "        while echo.value(): #wait for LOW\n",
    "            tm_delta = time.ticks_diff(time.ticks_us(), tm_start)\n",
    "            if(tm_delta>3000):\n",
    "                timeout=True\n",
    "                break\n",
    "        if timeout:\n",
    "            pass\n",
    "        else:\n",
    "            tm_delta = time.ticks_diff(time.ticks_us(), tm_start)\n",
    "            duration=tm_delta\n",
    "    \n",
    "    if timeout:\n",
    "        return 999 #cm, for timeout\n",
    "        \n",
    "    return duration/58\n",
    "\n",
    "while True:\n",
    "    distance=ping(trigPin=D7,echoPin=D8)\n",
    "    print('%s cm' % distance)\n",
    "    time.sleep(1)"
   ]
  },
  {
   "cell_type": "markdown",
   "metadata": {},
   "source": [
    "## 上傳thingSpeak\n",
    "\n",
    "- 帳號key\n"
   ]
  },
  {
   "cell_type": "code",
   "execution_count": null,
   "metadata": {
    "collapsed": true
   },
   "outputs": [],
   "source": [
    "%serialconnect to --port=com4 --baud=115200"
   ]
  },
  {
   "cell_type": "code",
   "execution_count": 37,
   "metadata": {
    "scrolled": true
   },
   "outputs": [
    {
     "name": "stdout",
     "output_type": "stream",
     "text": [
      "\u001b[34m** WebSocket connected **\n",
      "\u001b[0mPassword: \n",
      "WebREPL connected\n",
      ">>> \u001b[34mReady.\n",
      "\u001b[0m"
     ]
    }
   ],
   "source": [
    "%websocketconnect --password 1234 ws://192.168.43.106:8266"
   ]
  },
  {
   "cell_type": "code",
   "execution_count": 42,
   "metadata": {},
   "outputs": [
    {
     "name": "stdout",
     "output_type": "stream",
     "text": [
      "None\n",
      "22800\n",
      "stack: 2096 out of 8192\n",
      "GC: total: 36288, used: 13488, free: 22800\n",
      " No. of 1-blocks: 91, 2-blocks: 11, max blk sz: 264, max free sz: 910\n",
      "None\n"
     ]
    }
   ],
   "source": [
    "# test\n",
    "import gc\n",
    "res = gc.collect()\n",
    "print(res)\n",
    "\n",
    "res = gc.mem_free()\n",
    "print(res)\n",
    "\n",
    "import micropython\n",
    "res = micropython.mem_info()\n",
    "print(res)"
   ]
  },
  {
   "cell_type": "code",
   "execution_count": 36,
   "metadata": {},
   "outputs": [
    {
     "name": "stdout",
     "output_type": "stream",
     "text": [
      "T=32, H=95\n",
      ".error: -2\n",
      "T=32, H=94\n",
      "..error: -2\n",
      "T=32, H=94\n",
      "\u001b[34m\n",
      "\n",
      "*** Sending Ctrl-C\n",
      "\n",
      "\u001b[0m"
     ]
    },
    {
     "name": "stderr",
     "output_type": "stream",
     "text": [
      "Traceback (most recent call last):\n",
      "  File \"<stdin>\", line 26, in <module>\n",
      "  File \"<stdin>\", line 22, in <module>\n",
      "  File \"urequests.py\", line 104, in post\n",
      "  File \"urequests.py\", line 51, in request\n",
      "KeyboardInterrupt: \n"
     ]
    }
   ],
   "source": [
    "#%sendtofile main.py --binary\n",
    "\n",
    "import urequests\n",
    "import dht\n",
    "from machine import Pin\n",
    "\n",
    "url = \"http://api.thingspeak.com/update?api_key=TWB7BD496GOYPGM1&field1=25&field2=65\"\n",
    "api_key = 'TWB7BD496GOYPGM1'\n",
    "field1 = 20 #T\n",
    "field2 = 60 #H\n",
    "\n",
    "d = dht.DHT11(Pin(D1))\n",
    "\n",
    "while(True):\n",
    "    try:\n",
    "        d.measure()\n",
    "        T = d.temperature() # eg. 23 (℃)\n",
    "        H = d.humidity()    # eg. 41 (% RH)\n",
    "        print(\"T=%s, H=%s\" %(T, H))\n",
    "\n",
    "        url_update = 'http://api.thingspeak.com/update?api_key='+api_key+'&field1='+str(T)+'&field2='+str(H)\n",
    "        r = urequests.post(url_update)\n",
    "        print('result: ', r.content)\n",
    "        r.close()\n",
    "    except Exception as e:\n",
    "        print('error:', str(e))\n",
    "        "
   ]
  },
  {
   "cell_type": "markdown",
   "metadata": {
    "collapsed": true
   },
   "source": [
    "## web tool"
   ]
  },
  {
   "cell_type": "code",
   "execution_count": 31,
   "metadata": {
    "scrolled": true
   },
   "outputs": [
    {
     "name": "stdout",
     "output_type": "stream",
     "text": [
      "\u001b[34mConnecting to --port=com13 --baud=115200 \u001b[0m\n",
      "\u001b[34mReady.\n",
      "\u001b[0m"
     ]
    }
   ],
   "source": [
    "%serialconnect to --port=com13 --baud=115200"
   ]
  },
  {
   "cell_type": "markdown",
   "metadata": {},
   "source": [
    "- 燒錄AP設定檔的方法(1)"
   ]
  },
  {
   "cell_type": "code",
   "execution_count": 32,
   "metadata": {
    "scrolled": true
   },
   "outputs": [
    {
     "name": "stdout",
     "output_type": "stream",
     "text": [
      "Sent 2 lines (18 bytes) to ap.txt.\n"
     ]
    }
   ],
   "source": [
    "%sendtofile ap.txt\n",
    "\n",
    "malo-ap\n",
    "0928380233"
   ]
  },
  {
   "cell_type": "markdown",
   "metadata": {},
   "source": [
    "- 燒錄AP設定檔的方法(2)"
   ]
  },
  {
   "cell_type": "code",
   "execution_count": 33,
   "metadata": {
    "collapsed": true
   },
   "outputs": [],
   "source": [
    "ap_config_fn = 'ap.txt'"
   ]
  },
  {
   "cell_type": "code",
   "execution_count": null,
   "metadata": {
    "collapsed": true
   },
   "outputs": [],
   "source": [
    "AP_SSID = 'my-ap-name'\n",
    "AP_PWD = 'my-password'\n",
    "with open(ap_config_fn, 'w') as f:\n",
    "    f.write(AP_SSID+'\\n')\n",
    "    f.write(AP_PWD+'\\n')"
   ]
  },
  {
   "cell_type": "code",
   "execution_count": 34,
   "metadata": {},
   "outputs": [
    {
     "name": "stdout",
     "output_type": "stream",
     "text": [
      "ap config here!\n",
      "malo-ap\n",
      "0928380233\n",
      "['malo-ap', '0928380233']\n"
     ]
    }
   ],
   "source": [
    "ap_config = None\n",
    "\n",
    "print('ap config here!')\n",
    "with open(ap_config_fn, 'r') as f:\n",
    "    ap_config = f.read()\n",
    "\n",
    "print(ap_config)\n",
    "ap_config = ap_config.split('\\n')\n",
    "AP_SSID = ap_config[0].strip()\n",
    "AP_PWD = ap_config[1].strip()\n",
    "print(ap_config)"
   ]
  },
  {
   "cell_type": "markdown",
   "metadata": {},
   "source": [
    "- 燒錄main.py主程式 & 網頁介面"
   ]
  },
  {
   "cell_type": "code",
   "execution_count": 10,
   "metadata": {},
   "outputs": [
    {
     "name": "stdout",
     "output_type": "stream",
     "text": [
      "Sent 5031 bytes in 168 chunks to main.py.\n"
     ]
    }
   ],
   "source": [
    "%sendtofile main.py --binary\n",
    "\n",
    "import machine\n",
    "import network\n",
    "import time\n",
    "import os\n",
    "\n",
    "#- check ap config file\n",
    "AP_SSID = 'upy'\n",
    "AP_PWD = 'pypypypy'\n",
    "ap_config = None\n",
    "ap_config_fn = 'ap.txt'\n",
    "if ap_config_fn in os.listdir():\n",
    "    print('ap config here!')\n",
    "    f = open(ap_config_fn)\n",
    "    ap_config = f.read()\n",
    "    f.close()\n",
    "if ap_config:\n",
    "    print( ('ap_config:', ap_config))\n",
    "    ap_config = ap_config.split('\\n')\n",
    "    AP_SSID = ap_config[0].strip()\n",
    "    AP_PWD = ap_config[1].strip()\n",
    "print('line to: ', (AP_SSID, AP_PWD))\n",
    "\n",
    "#-- 連到AP 為Station\n",
    "sta_if = network.WLAN(network.STA_IF)\n",
    "sta_if.active(True)\n",
    "sta_if.connect(AP_SSID, AP_PWD)\n",
    "sta_if.isconnected()\n",
    "for i in range(20):\n",
    "    time.sleep(0.5)\n",
    "    if sta_if.isconnected():\n",
    "        break\n",
    "sta_ip = ''\n",
    "if sta_if.isconnected():\n",
    "    print('connected!  --> ', sta_if.ifconfig())\n",
    "    sta_ip = sta_if.ifconfig()[0]\n",
    "else:\n",
    "    print('not connected!  --> ', sta_if.ifconfig())\n",
    "\n",
    "#-- 當AP，並指定\n",
    "uid = machine.unique_id()\n",
    "#ap_if.ifconfig()\n",
    "# ('192.168.4.1', '255.255.255.0', '192.168.4.1', '192.168.43.1')\n",
    "# (ip, mask, gateway, dns)\n",
    "my_sn = '%02X-%02X-%02X' %(uid[0], uid[1], uid[2])\n",
    "\n",
    "#- Change name/password/ip of ESP8266's AP:\n",
    "ap_if = network.WLAN(network.AP_IF)\n",
    "#ap_if.ifconfig([my_ip, my_mask, my_gw, my_dns])\n",
    "\n",
    "my_ssid = 'up_%s' %(sta_ip)\n",
    "#ap_if.config(essid = my_ssid)#改ssid，馬上生效\n",
    "ap_if.config(essid=my_ssid, authmode=network.AUTH_WPA_WPA2_PSK, password=\"12345678\")\n",
    "#DHCP 功能micropython預設就有，不用設定\n",
    "#AP的IP，每次重開都會回到預設值，因此需要開機時就設定\n",
    "#一般是配給AP ip的下一號ip\n",
    "\n",
    "\n",
    "import socket\n",
    "from machine import Pin\n",
    "from machine import PWM\n",
    "import dht\n",
    "#from hcsr04 import HCSR04\n",
    "\n",
    "def Tune(buzzer, freq=262, t=500, duty=512):\n",
    "    ''' t: ms '''\n",
    "    if freq==0:\n",
    "        buzzer.duty(0)\n",
    "    else:\n",
    "        buzzer.duty(duty)\n",
    "    buzzer.freq(freq)\n",
    "    time.sleep_ms(t)\n",
    "\n",
    "\n",
    "# PIN Define:\n",
    "D0 = 16\n",
    "D1 = 5  #PWM\n",
    "D2 = 4  #PWM\n",
    "D3 = 0  #PWM\n",
    "D4 = 2  #PWM, #Led on board\n",
    "D5 = 14 #PWM\n",
    "D6 = 12 #PWM\n",
    "D7 = 13 #PWM\n",
    "D8 = 15 #PWM\n",
    "\n",
    "#Setup PINS\n",
    "led = machine.Pin(D4, machine.Pin.OUT)\n",
    "\n",
    "# buzzer\n",
    "NOTE_C4=262\n",
    "NOTE_D4=294\n",
    "NOTE_E4=330\n",
    "NOTE_F4=349\n",
    "NOTE_G4=392\n",
    "NOTE_A4=440\n",
    "NOTE_B4=494\n",
    "buzzer = PWM(Pin(D2), freq=1000, duty=0)\n",
    "\n",
    "# servo\n",
    "SV_ANGLE_0 = 40\n",
    "SV_ANGLE_90 = 77\n",
    "SV_ANGLE_180 = 115\n",
    "servo = PWM(Pin(D5), freq=50)\n",
    "servo2 = PWM(Pin(D6), freq=50)\n",
    "servo3 = PWM(Pin(D7), freq=50)\n",
    "servo4 = PWM(Pin(D8), freq=50)\n",
    "\n",
    "# th_sensor\n",
    "th_sensor = dht.DHT11(Pin(D1))\n",
    "\n",
    "# HCSR04, not work, TODO: later\n",
    "#sr04 = HCSR04(trigger_pin=D7, echo_pin=D8)\n",
    "\n",
    "#Setup Socket WebServer\n",
    "s = socket.socket(socket.AF_INET, socket.SOCK_STREAM)\n",
    "s.bind(('0.0.0.0', 80))\n",
    "s.listen(5)\n",
    "while True:\n",
    "    conn, addr = s.accept()\n",
    "    print(\"Got a connection from %s\" % str(addr))\n",
    "    request = conn.recv(1024)\n",
    "    print(\"Content = %s\" % str(request))\n",
    "    '''\n",
    "    Got a connection from ('10.107.85.22', 64869)\n",
    "    Content = b'GET /favicon.ico HTTP/1.1\\r\\nHost: 10.107.85.21\\r\\nConnection: keep-alive\\r\\nUser-Agent: Mozilla/5.0 (Windows NT 10.0; Win64; x64) AppleWebKit/537.36 (KHTML, like Gecko) Chrome/62.0.3202.94 Safari/537.36\\r\\nAccept: image/webp,image/apng,image/*,*/*;q=0.8\\r\\nReferer: http://10.107.85.21/\\r\\nAccept-Encoding: gzip, deflate\\r\\nAccept-Language: zh-TW,zh;q=0.9,en-US;q=0.8,en;q=0.7\\r\\n\\r\\n'\n",
    "    '''\n",
    "    request = str(request)\n",
    "    led_on = request.find('GET /?LED=ON')\n",
    "    led_off = request.find('GET /?LED=OFF')\n",
    "    buzzer_on = request.find('GET /?buzzer=on')\n",
    "    buzzer_off = request.find('GET /?buzzer=off')\n",
    "    th_sensor_read = request.find('GET /?th_sensor=read')\n",
    "    sr04_read = request.find('GET /?sr04=read')\n",
    "\n",
    "\n",
    "    if led_on >= 0:\n",
    "        print('TURN Led ON')\n",
    "        led.value(0)\n",
    "    if led_off >= 0:\n",
    "        print('TURN Led OFF')\n",
    "        led.value(1)\n",
    "    if buzzer_on >= 0:\n",
    "        print('buzzer on')\n",
    "        Tune(buzzer, NOTE_C4, 10)\n",
    "        time.sleep(4)\n",
    "        Tune(buzzer, 0, 10)\n",
    "    if buzzer_off >= 0:\n",
    "        print('buzzer off')\n",
    "        Tune(buzzer, 0, 10)\n",
    "\n",
    "    my_t = None\n",
    "    my_h = None\n",
    "    if th_sensor_read >= 0:\n",
    "        print('th_sensor read')\n",
    "        th_sensor.measure()\n",
    "        my_t = th_sensor.temperature()\n",
    "        my_h = th_sensor.humidity()\n",
    "        print('T=', my_t)\n",
    "        print('H=', my_h)\n",
    "    my_distance = None\n",
    "    if sr04_read >= 0:\n",
    "        print('sr04 read')\n",
    "        my_distance = -1 #sr04.distance_cm()\n",
    "        print('distance=', my_distance)\n",
    "\n",
    "    f = open('webtool.html')\n",
    "\n",
    "    while(1):\n",
    "        html = f.read(1024)\n",
    "\n",
    "        if my_t:\n",
    "            html = html.replace('T=?degree', 'T=%d degree' %(my_t))\n",
    "        else:\n",
    "            html = html.replace('T=?degree', '')\n",
    "            \n",
    "        if my_h:\n",
    "            html = html.replace('H=?%', 'T=%d %%' %(my_h))\n",
    "        else:\n",
    "            html = html.replace('H=?%', '')\n",
    "            \n",
    "        if my_distance:\n",
    "            html = html.replace('distance=? cm', 'distance=%s cm' %(my_distance))\n",
    "        else:\n",
    "            html = html.replace('distance=? cm', '')\n",
    "\n",
    "        #conn.send(html)\n",
    "        conn.sendall(html) #改用send all就不會有資料傳一半的問題\n",
    "        if(len(html)<=0):\n",
    "            break\n",
    "    f.close()\n",
    "    conn.close()\n"
   ]
  },
  {
   "cell_type": "code",
   "execution_count": 11,
   "metadata": {},
   "outputs": [
    {
     "name": "stdout",
     "output_type": "stream",
     "text": [
      "Sent 954 bytes in 32 chunks to webtool.html.\n"
     ]
    }
   ],
   "source": [
    "%sendtofile webtool.html --binary\n",
    "\n",
    "<!DOCTYPE html>\n",
    "<html>\n",
    "<head> <title>upy webserver</title> </head>\n",
    "<center><h2>upy webserver</h2></center>\n",
    "<h3>\n",
    "webREPL: <a href=\"http://micropython.org/webrepl/\" target=\"_blank\">webrepl</a>\n",
    "<br>\n",
    "Doc: <a href=\"https://docs.micropython.org/en/latest/esp8266/esp8266/quickref.html\" target=\"_blank\">Quick reference</a>\n",
    "</h3>\n",
    "<hr>\n",
    "\n",
    "<form>\n",
    "<b>LED (D4):</b><br>\n",
    "<button name=\"LED\" value=\"ON\" type=\"submit\">ON</button><br>\n",
    "<button name=\"LED\" value=\"OFF\" type=\"submit\">OFF</button><br>\n",
    "</form>\n",
    "\n",
    "<form>\n",
    "<b>Buzzer (D2):</b><br>\n",
    "<button name=\"buzzer\" value=\"on\" type=\"submit\">ON</button><br>\n",
    "<button name=\"buzzer\" value=\"off\" type=\"submit\">OFF</button><br>\n",
    "</form>\n",
    "\n",
    "<form>\n",
    "<b>T/H sensor (D1):</b><br>\n",
    "<button name=\"th_sensor\" value=\"read\" type=\"submit\">Read</button><br>\n",
    "T=?degree\n",
    "H=?%\n",
    "</form>\n",
    "\n",
    "<hr>\n",
    "GPIO Info. :<br>\n",
    "<pre>\n",
    "D0 = 16\n",
    "D1 = 5  #PWM\n",
    "D2 = 4  #PWM\n",
    "D3 = 0  #PWM\n",
    "D4 = 2  #PWM, #Led on board\n",
    "D5 = 14 #PWM\n",
    "D6 = 12 #PWM\n",
    "D7 = 13 #PWM\n",
    "D8 = 15 #PWM\n",
    "</pre>\n",
    "\n",
    "</html>"
   ]
  },
  {
   "cell_type": "markdown",
   "metadata": {},
   "source": [
    "### 燒錄main.py & 網頁介面 (加入超音波)"
   ]
  },
  {
   "cell_type": "code",
   "execution_count": 35,
   "metadata": {},
   "outputs": [
    {
     "name": "stdout",
     "output_type": "stream",
     "text": [
      "Sent 6093 bytes in 204 chunks to main.py.\n"
     ]
    }
   ],
   "source": [
    "%sendtofile main.py --binary\n",
    "\n",
    "import machine\n",
    "import network\n",
    "import time\n",
    "import os\n",
    "\n",
    "#- check ap config file\n",
    "AP_SSID = 'upy'\n",
    "AP_PWD = 'pypypypy'\n",
    "ap_config = None\n",
    "ap_config_fn = 'ap.txt'\n",
    "if ap_config_fn in os.listdir():\n",
    "    print('ap config here!')\n",
    "    f = open(ap_config_fn)\n",
    "    ap_config = f.read()\n",
    "    f.close()\n",
    "if ap_config:\n",
    "    print( ('ap_config:', ap_config))\n",
    "    ap_config = ap_config.split('\\n')\n",
    "    AP_SSID = ap_config[0].strip()\n",
    "    AP_PWD = ap_config[1].strip()\n",
    "print('line to: ', (AP_SSID, AP_PWD))\n",
    "\n",
    "#-- 連到AP 為Station\n",
    "sta_if = network.WLAN(network.STA_IF)\n",
    "sta_if.active(True)\n",
    "sta_if.connect(AP_SSID, AP_PWD)\n",
    "sta_if.isconnected()\n",
    "for i in range(20):\n",
    "    time.sleep(0.5)\n",
    "    if sta_if.isconnected():\n",
    "        break\n",
    "sta_ip = ''\n",
    "if sta_if.isconnected():\n",
    "    print('connected!  --> ', sta_if.ifconfig())\n",
    "    sta_ip = sta_if.ifconfig()[0]\n",
    "else:\n",
    "    print('not connected!  --> ', sta_if.ifconfig())\n",
    "\n",
    "#-- 當AP，並指定\n",
    "uid = machine.unique_id()\n",
    "#ap_if.ifconfig()\n",
    "# ('192.168.4.1', '255.255.255.0', '192.168.4.1', '192.168.43.1')\n",
    "# (ip, mask, gateway, dns)\n",
    "my_sn = '%02X-%02X-%02X' %(uid[0], uid[1], uid[2])\n",
    "\n",
    "#- Change name/password/ip of ESP8266's AP:\n",
    "ap_if = network.WLAN(network.AP_IF)\n",
    "#ap_if.ifconfig([my_ip, my_mask, my_gw, my_dns])\n",
    "\n",
    "my_ssid = 'up_%s' %(sta_ip)\n",
    "#ap_if.config(essid = my_ssid)#改ssid，馬上生效\n",
    "ap_if.config(essid=my_ssid, authmode=network.AUTH_WPA_WPA2_PSK, password=\"12345678\")\n",
    "#DHCP 功能micropython預設就有，不用設定\n",
    "#AP的IP，每次重開都會回到預設值，因此需要開機時就設定\n",
    "#一般是配給AP ip的下一號ip\n",
    "\n",
    "\n",
    "import socket\n",
    "from machine import Pin\n",
    "from machine import PWM\n",
    "import dht\n",
    "#from hcsr04 import HCSR04\n",
    "\n",
    "def Tune(buzzer, freq=262, t=500, duty=512):\n",
    "    ''' t: ms '''\n",
    "    if freq==0:\n",
    "        buzzer.duty(0)\n",
    "    else:\n",
    "        buzzer.duty(duty)\n",
    "    buzzer.freq(freq)\n",
    "    time.sleep_ms(t)\n",
    "\n",
    "# 340m/s --> 340000mm/s --> 1mm需要2.94 us\n",
    "# 340m/s --> 34000cm/s --> 1cm要29.4us --> 去回，所以除以(29.4*2)=58.8，但手冊是寫58us為1cm\n",
    "# 所以如果目標是50cm內的量測距離 --> 50*58=2900us為最長時間\n",
    "# timeout回傳0，很怪，應該給個大數字比較好，比如999\n",
    "\n",
    "import time\n",
    "from machine import Pin\n",
    "\n",
    "def ping(trigPin, echoPin):\n",
    "    '''\n",
    "        return: distance (cm)\n",
    "    '''\n",
    "    trig=Pin(trigPin, Pin.OUT)\n",
    "    echo=Pin(echoPin, Pin.IN)\n",
    "    trig.value(1)\n",
    "    time.sleep_us(10)\n",
    "    trig.value(0)\n",
    "    timeout=False\n",
    "    tm_start=time.ticks_us() \n",
    "    while not echo.value(): #wait for HIGH, 3000us timeout\n",
    "        if(time.ticks_diff(time.ticks_us(), tm_start)>3000):\n",
    "            timeout=True\n",
    "            break\n",
    "    if timeout: #timeout return 0\n",
    "        pass\n",
    "    else: #got HIGH pulse:calculate duration\n",
    "        tm_start=time.ticks_us()\n",
    "        tm_delta = 0\n",
    "        while echo.value(): #wait for LOW\n",
    "            tm_delta = time.ticks_diff(time.ticks_us(), tm_start)\n",
    "            if(tm_delta>3000):\n",
    "                timeout=True\n",
    "                break\n",
    "        if timeout:\n",
    "            pass\n",
    "        else:\n",
    "            tm_delta = time.ticks_diff(time.ticks_us(), tm_start)\n",
    "            duration=tm_delta\n",
    "    \n",
    "    if timeout:\n",
    "        return 999 #cm, for timeout\n",
    "        \n",
    "    return duration/58\n",
    "\n",
    "    \n",
    "# PIN Define:\n",
    "D0 = 16\n",
    "D1 = 5  #PWM\n",
    "D2 = 4  #PWM\n",
    "D3 = 0  #PWM\n",
    "D4 = 2  #PWM, #Led on board\n",
    "D5 = 14 #PWM\n",
    "D6 = 12 #PWM\n",
    "D7 = 13 #PWM\n",
    "D8 = 15 #PWM\n",
    "\n",
    "#Setup PINS\n",
    "led = machine.Pin(D4, machine.Pin.OUT)\n",
    "\n",
    "# buzzer\n",
    "NOTE_C4=262\n",
    "NOTE_D4=294\n",
    "NOTE_E4=330\n",
    "NOTE_F4=349\n",
    "NOTE_G4=392\n",
    "NOTE_A4=440\n",
    "NOTE_B4=494\n",
    "buzzer = PWM(Pin(D2), freq=1000, duty=0)\n",
    "\n",
    "# th_sensor\n",
    "th_sensor = dht.DHT11(Pin(D1))\n",
    "\n",
    "#Setup Socket WebServer\n",
    "s = socket.socket(socket.AF_INET, socket.SOCK_STREAM)\n",
    "s.bind(('0.0.0.0', 80))\n",
    "s.listen(5)\n",
    "while True:\n",
    "    conn, addr = s.accept()\n",
    "    print(\"Got a connection from %s\" % str(addr))\n",
    "    request = conn.recv(1024)\n",
    "    print(\"Content = %s\" % str(request))\n",
    "    '''\n",
    "    Got a connection from ('10.107.85.22', 64869)\n",
    "    Content = b'GET /favicon.ico HTTP/1.1\\r\\nHost: 10.107.85.21\\r\\nConnection: keep-alive\\r\\nUser-Agent: Mozilla/5.0 (Windows NT 10.0; Win64; x64) AppleWebKit/537.36 (KHTML, like Gecko) Chrome/62.0.3202.94 Safari/537.36\\r\\nAccept: image/webp,image/apng,image/*,*/*;q=0.8\\r\\nReferer: http://10.107.85.21/\\r\\nAccept-Encoding: gzip, deflate\\r\\nAccept-Language: zh-TW,zh;q=0.9,en-US;q=0.8,en;q=0.7\\r\\n\\r\\n'\n",
    "    '''\n",
    "    request = str(request)\n",
    "    led_on = request.find('GET /?LED=ON')\n",
    "    led_off = request.find('GET /?LED=OFF')\n",
    "    buzzer_on = request.find('GET /?buzzer=on')\n",
    "    buzzer_off = request.find('GET /?buzzer=off')\n",
    "    th_sensor_read = request.find('GET /?th_sensor=read')\n",
    "    sr04_read = request.find('GET /?sr04=read')\n",
    "\n",
    "\n",
    "    if led_on >= 0:\n",
    "        print('TURN Led ON')\n",
    "        led.value(0)\n",
    "    if led_off >= 0:\n",
    "        print('TURN Led OFF')\n",
    "        led.value(1)\n",
    "    if buzzer_on >= 0:\n",
    "        print('buzzer on')\n",
    "        Tune(buzzer, NOTE_C4, 10)\n",
    "        time.sleep(4)\n",
    "        Tune(buzzer, 0, 10)\n",
    "    if buzzer_off >= 0:\n",
    "        print('buzzer off')\n",
    "        Tune(buzzer, 0, 10)\n",
    "\n",
    "    my_t = None\n",
    "    my_h = None\n",
    "    if th_sensor_read >= 0:\n",
    "        print('th_sensor read')\n",
    "        th_sensor.measure()\n",
    "        my_t = th_sensor.temperature()\n",
    "        my_h = th_sensor.humidity()\n",
    "        print('T=', my_t)\n",
    "        print('H=', my_h)\n",
    "    my_distance = None\n",
    "    if sr04_read >= 0:\n",
    "        print('sr04 read')\n",
    "        my_distance=ping(trigPin=D7,echoPin=D8)\n",
    "        print('distance=', my_distance)\n",
    "\n",
    "    f = open('webtool.html')\n",
    "\n",
    "    while(1):\n",
    "        html = f.read(1024)\n",
    "\n",
    "        if my_t:\n",
    "            html = html.replace('T=?degree', 'T=%d degree' %(my_t))\n",
    "        else:\n",
    "            html = html.replace('T=?degree', '')\n",
    "            \n",
    "        if my_h:\n",
    "            html = html.replace('H=?%', 'T=%d %%' %(my_h))\n",
    "        else:\n",
    "            html = html.replace('H=?%', '')\n",
    "            \n",
    "        if my_distance:\n",
    "            html = html.replace('distance=? cm', 'distance=%s cm' %(my_distance))\n",
    "        else:\n",
    "            html = html.replace('distance=? cm', '')\n",
    "\n",
    "        #conn.send(html)\n",
    "        conn.sendall(html) #改用send all就不會有資料傳一半的問題\n",
    "        if(len(html)<=0):\n",
    "            break\n",
    "    f.close()\n",
    "    conn.close()\n"
   ]
  },
  {
   "cell_type": "code",
   "execution_count": 36,
   "metadata": {},
   "outputs": [
    {
     "name": "stdout",
     "output_type": "stream",
     "text": [
      "Sent 1080 bytes in 37 chunks to webtool.html.\n"
     ]
    }
   ],
   "source": [
    "%sendtofile webtool.html --binary\n",
    "\n",
    "<!DOCTYPE html>\n",
    "<html>\n",
    "<head> <title>upy webserver</title> </head>\n",
    "<center><h2>upy webserver</h2></center>\n",
    "<h3>\n",
    "webREPL: <a href=\"http://micropython.org/webrepl/\" target=\"_blank\">webrepl</a>\n",
    "<br>\n",
    "Doc: <a href=\"https://docs.micropython.org/en/latest/esp8266/esp8266/quickref.html\" target=\"_blank\">Quick reference</a>\n",
    "</h3>\n",
    "<hr>\n",
    "\n",
    "<form>\n",
    "<b>LED (D4):</b><br>\n",
    "<button name=\"LED\" value=\"ON\" type=\"submit\">ON</button><br>\n",
    "<button name=\"LED\" value=\"OFF\" type=\"submit\">OFF</button><br>\n",
    "</form>\n",
    "\n",
    "<form>\n",
    "<b>Buzzer (D2):</b><br>\n",
    "<button name=\"buzzer\" value=\"on\" type=\"submit\">ON</button><br>\n",
    "<button name=\"buzzer\" value=\"off\" type=\"submit\">OFF</button><br>\n",
    "</form>\n",
    "\n",
    "<form>\n",
    "<b>T/H sensor (D1):</b><br>\n",
    "<button name=\"th_sensor\" value=\"read\" type=\"submit\">Read</button><br>\n",
    "T=?degree\n",
    "H=?%\n",
    "</form>\n",
    "\n",
    "<form>\n",
    "<b>ultra sonic (D7,8):</b><br>\n",
    "<button name=\"sr04\" value=\"read\" type=\"submit\">Read</button><br>\n",
    "distance=? cm\n",
    "</form>\n",
    "\n",
    "<hr>\n",
    "GPIO Info. :<br>\n",
    "<pre>\n",
    "D0 = 16\n",
    "D1 = 5  #PWM\n",
    "D2 = 4  #PWM\n",
    "D3 = 0  #PWM\n",
    "D4 = 2  #PWM, #Led on board\n",
    "D5 = 14 #PWM\n",
    "D6 = 12 #PWM\n",
    "D7 = 13 #PWM\n",
    "D8 = 15 #PWM\n",
    "</pre>\n",
    "\n",
    "</html>"
   ]
  },
  {
   "cell_type": "markdown",
   "metadata": {},
   "source": [
    "## scan wifi"
   ]
  },
  {
   "cell_type": "code",
   "execution_count": 34,
   "metadata": {},
   "outputs": [
    {
     "name": "stdout",
     "output_type": "stream",
     "text": [
      "\u001b[34mConnecting to --port=com4 --baud=115200 \u001b[0m\n",
      "\u001b[34mReady.\n",
      "\u001b[0m"
     ]
    }
   ],
   "source": [
    "%serialconnect to --port=com4 --baud=115200"
   ]
  },
  {
   "cell_type": "code",
   "execution_count": 20,
   "metadata": {},
   "outputs": [
    {
     "name": "stdout",
     "output_type": "stream",
     "text": [
      "[(b'P874', b'\\xc8l\\x876\\xbcy', 1, -75, 2, 0), (b'CHT0095', b\"\\xd8\\xfe\\xe3[\\xe8'\", 1, -90, 3, 0), (b'SEALER', b'\\x00\\x16\\x01Xj]', 5, -92, 1, 0), (b'malo-ap', b'\\xc4\\x0b\\xcb8+_', 6, -54, 3, 0), (b'.1.Free Wi-Fi', b'pb\\xb8\\xb7\\xd6\\x93', 6, -89, 0, 0), (b'CHT Wi-Fi(HiNet)', b'pb\\xb8\\xb7\\xd6\\x91', 6, -86, 0, 0), (b'MOTOROLA-A64B2', b'\\xf85\\xdd]\\x9eW', 8, -65, 3, 0), (b'CHT7381', b'@\\x9b\\xcd\\x02\\x9a\\xea', 11, -70, 3, 0), (b'6740C', b'\\xcc\\xb2U\\xff\\xa89', 11, -83, 3, 0), (b'LIANSHEN', b'\\\\\\xf4\\xabn\\x80\\x1c', 11, -90, 3, 0)]\r\n"
     ]
    }
   ],
   "source": [
    "sta_if = network.WLAN(network.STA_IF)\n",
    "sta_if.active(True)\n",
    "result = sta_if.scan()\n",
    "print(result)\n",
    "'''\n",
    "result:\n",
    "\n",
    "[(b'DELTA_11NG', b'\\x00\\x18#\\x01>h', 6, -82, 0, 0), (b'malo-ap', b'\\xc4\\x0b\\xcb8+_', 6, -51, 3, 0), (b'ICPDAS-EE3', b'0Z:`\\xc7\\x00', 3, -54, 4, 0), (b\n",
    "'ICP DAS', b'\\x10o?\\xdae\\xf6', 6, -71, 4, 0), (b'Staff', b'\\x00P\\x18!\\xe7\\x87', 11, -72, 0, 0), (b'ICPDAS-UNIFI', b'\\n\\x18\\xd6%+7', 11, -71, 3, 0), (b\n",
    "'WM05B_QC', b'\\xf4^\\xab~?n', 11, -89, 4, 0), (b'Alex_test', b'\\x00P\\x18!\\xe5\\xc9', 11, -48, 3, 0), (b'WF-2571', b'\\x02P\\x18!\\xe5\\xc9', 11, -48, 3, 0),\n",
    " (b'611212', b'\\x00\\xd0A\\xd6S\\xd9', 11, -91, 3, 0), (b'EDIMAX', b'\\x80\\x1f\\x02\\xb7\\xde\\xd8', 11, -91, 3, 0)]    \n",
    "'''"
   ]
  },
  {
   "cell_type": "code",
   "execution_count": 23,
   "metadata": {},
   "outputs": [
    {
     "name": "stdout",
     "output_type": "stream",
     "text": [
      "(b'P874', b'\\xc8l\\x876\\xbcy', 1, -75, 2, 0)\n",
      "(b'CHT0095', b\"\\xd8\\xfe\\xe3[\\xe8'\", 1, -90, 3, 0)\n",
      "(b'SEALER', b'\\x00\\x16\\x01Xj]', 5, -92, 1, 0)\n",
      "(b'malo-ap', b'\\xc4\\x0b\\xcb8+_', 6, -54, 3, 0)\n",
      "(b'.1.Free Wi-Fi', b'pb\\xb8\\xb7\\xd6\\x93', 6, -89, 0, 0)\n",
      "(b'CHT Wi-Fi(HiNet)', b'pb\\xb8\\xb7\\xd6\\x91', 6, -86, 0, 0)\n",
      "(b'MOTOROLA-A64B2', b'\\xf85\\xdd]\\x9eW', 8, -65, 3, 0)\n",
      "(b'CHT7381', b'@\\x9b\\xcd\\x02\\x9a\\xea', 11, -70, 3, 0)\n",
      "(b'6740C', b'\\xcc\\xb2U\\xff\\xa89', 11, -83, 3, 0)\n",
      "(b'LIANSHEN', b'\\\\\\xf4\\xabn\\x80\\x1c', 11, -90, 3, 0)\n"
     ]
    }
   ],
   "source": [
    "for i in result:\n",
    "    print(i)"
   ]
  }
 ],
 "metadata": {
  "kernelspec": {
   "display_name": "MicroPython - USB",
   "language": "micropython",
   "name": "micropython"
  },
  "language_info": {
   "codemirror_mode": "python",
   "file_extension": ".py",
   "mimetype": "text/python",
   "name": "micropython"
  }
 },
 "nbformat": 4,
 "nbformat_minor": 2
}
