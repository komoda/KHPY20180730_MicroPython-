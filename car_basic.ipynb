{
 "cells": [
  {
   "cell_type": "markdown",
   "metadata": {},
   "source": [
    "# 用Jupyter玩MicroPython小車"
   ]
  },
  {
   "cell_type": "markdown",
   "metadata": {},
   "source": [
    "## ESP12的電機板\n",
    "\n",
    "- 電機電源（VM）：4.5V～36V，可單獨供電\n",
    "- 控制電源（VIN）：4.5V～9V（10VMAX），可單獨供電\n",
    "- 但我們這邊把VM, VIN短路，比較省事\n",
    "- 其中，D1，D3（A電機）；D2，D4（B電機）\n",
    "\n",
    "![電機板](image/motor_board.png)\n",
    "\n",
    "### 供電\n",
    "\n",
    "- 以行動電源供電即可\n",
    "\n",
    "### 馬達\n",
    "\n",
    "- TT減速馬達(48:1)\n",
    "\n",
    "### 超音波測距模組\n",
    "\n",
    "- HC-SR04+ : 給MicroPython 記得使用這一款，可以吃3.3V、5V的電，因為MicroPython是3.3V的GPIO\n",
    "\n",
    "----"
   ]
  },
  {
   "cell_type": "markdown",
   "metadata": {},
   "source": [
    "## 測試馬達"
   ]
  },
  {
   "cell_type": "code",
   "execution_count": 2,
   "metadata": {},
   "outputs": [
    {
     "name": "stdout",
     "output_type": "stream",
     "text": [
      "\u001b[34mConnecting to --port=com13 --baud=115200 \u001b[0m\n",
      "\u001b[34mReady.\n",
      "\u001b[0m"
     ]
    }
   ],
   "source": [
    "%serialconnect to --port=com13 --baud=115200"
   ]
  },
  {
   "cell_type": "code",
   "execution_count": 22,
   "metadata": {
    "scrolled": true
   },
   "outputs": [
    {
     "name": "stdout",
     "output_type": "stream",
     "text": [
      "\u001b[34m** WebSocket connected **\n",
      "\u001b[0mPassword: \n",
      "WebREPL connected\n",
      ">>> \u001b[34mReady.\n",
      "\u001b[0m"
     ]
    }
   ],
   "source": [
    "%websocketconnect --password 1234 ws://192.168.43.230:8266"
   ]
  },
  {
   "cell_type": "code",
   "execution_count": 23,
   "metadata": {
    "collapsed": true
   },
   "outputs": [],
   "source": [
    "# 定義\n",
    "import machine\n",
    "from machine import Pin\n",
    "from machine import PWM\n",
    "import time\n",
    "\n",
    "# PIN Define:\n",
    "D0 = 16\n",
    "D1 = 5  #PWM\n",
    "D2 = 4  #PWM\n",
    "D3 = 0  #PWM\n",
    "D4 = 2  #PWM, #Led on board\n",
    "D5 = 14 #PWM\n",
    "D6 = 12 #PWM\n",
    "D7 = 13 #PWM\n",
    "D8 = 15 #PWM\n"
   ]
  },
  {
   "cell_type": "code",
   "execution_count": 24,
   "metadata": {
    "collapsed": true
   },
   "outputs": [],
   "source": [
    "#Setup PINS\n",
    "led = machine.Pin(2, machine.Pin.OUT)\n",
    "led.value(1)"
   ]
  },
  {
   "cell_type": "code",
   "execution_count": 25,
   "metadata": {
    "collapsed": true
   },
   "outputs": [],
   "source": [
    "# for motor sheilf\n",
    "motor_a1 = machine.Pin(D1, machine.Pin.OUT) #A-, speed\n",
    "motor_a2 = machine.Pin(D3, machine.Pin.OUT) #A+, dir\n",
    "motor_b1 = machine.Pin(D2, machine.Pin.OUT) #B-, speed\n",
    "motor_b2 = machine.Pin(D4, machine.Pin.OUT) #B+, dir\n",
    "FWD = 1 #high\n",
    "REV = 0 #low\n"
   ]
  },
  {
   "cell_type": "code",
   "execution_count": 26,
   "metadata": {
    "collapsed": true
   },
   "outputs": [],
   "source": [
    "def car_fwd():\n",
    "    motor_a1.value(1)\n",
    "    motor_a2.value(FWD)\n",
    "    motor_b1.value(1)\n",
    "    motor_b2.value(FWD)\n",
    "\n",
    "def car_rev():\n",
    "    motor_a1.value(1)\n",
    "    motor_a2.value(REV)\n",
    "    motor_b1.value(1)\n",
    "    motor_b2.value(REV)\n",
    "\n",
    "def car_stop():\n",
    "    motor_a1.value(0)\n",
    "    motor_a2.value(FWD)\n",
    "    motor_b1.value(0)\n",
    "    motor_b2.value(FWD)\n",
    "\n",
    "def car_right():\n",
    "    motor_a1.value(1)\n",
    "    motor_a2.value(REV)\n",
    "    motor_b1.value(1)\n",
    "    motor_b2.value(FWD)\n",
    "\n",
    "def car_left():\n",
    "    motor_a1.value(1)\n",
    "    motor_a2.value(FWD)\n",
    "    motor_b1.value(1)\n",
    "    motor_b2.value(REV)\n"
   ]
  },
  {
   "cell_type": "markdown",
   "metadata": {},
   "source": [
    "### 測試前進、後退、左轉、右轉"
   ]
  },
  {
   "cell_type": "code",
   "execution_count": 19,
   "metadata": {},
   "outputs": [
    {
     "name": "stdout",
     "output_type": "stream",
     "text": [
      "."
     ]
    }
   ],
   "source": [
    "# 前進、後退\n",
    "car_fwd()\n",
    "time.sleep(3)\n",
    "car_rev()\n",
    "time.sleep(3)\n",
    "car_stop()"
   ]
  },
  {
   "cell_type": "code",
   "execution_count": 27,
   "metadata": {
    "collapsed": true
   },
   "outputs": [],
   "source": [
    "car_fwd()"
   ]
  },
  {
   "cell_type": "code",
   "execution_count": 28,
   "metadata": {
    "collapsed": true
   },
   "outputs": [],
   "source": [
    "car_rev()"
   ]
  },
  {
   "cell_type": "code",
   "execution_count": 38,
   "metadata": {
    "collapsed": true
   },
   "outputs": [],
   "source": [
    "car_stop()"
   ]
  },
  {
   "cell_type": "code",
   "execution_count": 30,
   "metadata": {
    "collapsed": true
   },
   "outputs": [],
   "source": [
    "car_right()"
   ]
  },
  {
   "cell_type": "code",
   "execution_count": 31,
   "metadata": {
    "collapsed": true
   },
   "outputs": [],
   "source": [
    "car_left()"
   ]
  },
  {
   "cell_type": "code",
   "execution_count": 32,
   "metadata": {},
   "outputs": [
    {
     "name": "stdout",
     "output_type": "stream",
     "text": [
      "."
     ]
    }
   ],
   "source": [
    "#全部動作跑一次\n",
    "car_fwd()\n",
    "time.sleep(2)\n",
    "car_right()\n",
    "time.sleep(2)\n",
    "car_left()\n",
    "time.sleep(2)\n",
    "car_rev()\n",
    "time.sleep(2)\n",
    "car_stop()"
   ]
  },
  {
   "cell_type": "markdown",
   "metadata": {
    "collapsed": true
   },
   "source": [
    "----\n",
    "\n",
    "## 超音波 test\n",
    "\n",
    "- HC-SR04\n"
   ]
  },
  {
   "cell_type": "code",
   "execution_count": 147,
   "metadata": {},
   "outputs": [
    {
     "name": "stdout",
     "output_type": "stream",
     "text": [
      "\u001b[34m** WebSocket connected **\n",
      "\u001b[0mPassword: \u001b[34mReady.\n",
      "\u001b[0m"
     ]
    }
   ],
   "source": [
    "%websocketconnect --password 1234 ws://192.168.43.230:8266"
   ]
  },
  {
   "cell_type": "code",
   "execution_count": 33,
   "metadata": {
    "collapsed": true
   },
   "outputs": [],
   "source": [
    "# 定義\n",
    "from machine import Pin\n",
    "from machine import PWM\n",
    "import time\n",
    "\n",
    "# PIN Define:\n",
    "D0 = 16\n",
    "D1 = 5  #PWM\n",
    "D2 = 4  #PWM\n",
    "D3 = 0  #PWM\n",
    "D4 = 2  #PWM, #Led on board\n",
    "D5 = 14 #PWM\n",
    "D6 = 12 #PWM\n",
    "D7 = 13 #PWM\n",
    "D8 = 15 #PWM\n"
   ]
  },
  {
   "cell_type": "code",
   "execution_count": 36,
   "metadata": {},
   "outputs": [
    {
     "name": "stdout",
     "output_type": "stream",
     "text": [
      "6.87931 cm\n",
      "10.2414 cm\n",
      "7.43103 cm\n",
      "6.65517 cm\n",
      "10.2414 cm\n",
      ".7.43103 cm\n",
      "6.65517 cm\n",
      "10.2414 cm\n",
      "9.46552 cm\n",
      "999 cm\n",
      "15.1552 cm\n",
      ".14.3965 cm\n",
      "15.1724 cm\n",
      "13.1724 cm\n",
      "14.3793 cm\n",
      "20.5345 cm\n",
      ".15.1552 cm\n",
      "12.4828 cm\n",
      "15.1552 cm\n",
      "12.4828 cm\n",
      "15.1724 cm\n",
      "12.5 cm\n",
      "15.1552 cm\n",
      ".12.4828 cm\n",
      "\u001b[34m\n",
      "\n",
      "*** Sending Ctrl-C\n",
      "\n",
      "\u001b[0m15.1552 cm\n"
     ]
    },
    {
     "name": "stderr",
     "output_type": "stream",
     "text": [
      "Traceback (most recent call last):\n",
      "  File \"<stdin>\", line 48, in <module>\n",
      "KeyboardInterrupt: \n"
     ]
    }
   ],
   "source": [
    "# 340m/s --> 340000mm/s --> 1mm需要2.94 us\n",
    "# 340m/s --> 34000cm/s --> 1cm要29.4us --> 去回，所以除以(29.4*2)=58.8，但手冊是寫58us為1cm\n",
    "# 所以如果目標是50cm內的量測距離 --> 50*58=2900us為最長時間\n",
    "# timeout回傳0，很怪，應該給個大數字比較好，比如999\n",
    "\n",
    "import time\n",
    "from machine import Pin\n",
    "\n",
    "def ping(trigPin, echoPin):\n",
    "    '''\n",
    "        return: distance (cm)\n",
    "    '''\n",
    "    trig=Pin(trigPin, Pin.OUT)\n",
    "    echo=Pin(echoPin, Pin.IN)\n",
    "    trig.value(1)\n",
    "    time.sleep_us(10)\n",
    "    trig.value(0)\n",
    "    timeout=False\n",
    "    tm_start=time.ticks_us() \n",
    "    while not echo.value(): #wait for HIGH, 3000us timeout\n",
    "        if(time.ticks_diff(time.ticks_us(), tm_start)>3000):\n",
    "            timeout=True\n",
    "            break\n",
    "    if timeout: #timeout return 0\n",
    "        pass\n",
    "    else: #got HIGH pulse:calculate duration\n",
    "        tm_start=time.ticks_us()\n",
    "        tm_delta = 0\n",
    "        while echo.value(): #wait for LOW\n",
    "            tm_delta = time.ticks_diff(time.ticks_us(), tm_start)\n",
    "            if(tm_delta>3000):\n",
    "                timeout=True\n",
    "                break\n",
    "        if timeout:\n",
    "            pass\n",
    "        else:\n",
    "            tm_delta = time.ticks_diff(time.ticks_us(), tm_start)\n",
    "            duration=tm_delta\n",
    "    \n",
    "    if timeout:\n",
    "        return 999 #cm, for timeout\n",
    "        \n",
    "    return duration/58\n",
    "\n",
    "while True:\n",
    "    distance=ping(trigPin=D7,echoPin=D8)\n",
    "    print('%s cm' % distance)\n",
    "    time.sleep(1)"
   ]
  },
  {
   "cell_type": "markdown",
   "metadata": {},
   "source": [
    "## 前進 + 避障\n",
    "\n",
    "- 先引入Ping函式\n",
    "- 再開始前進\n",
    "- 這邊很單純的碰到障礙，就右轉、或後退"
   ]
  },
  {
   "cell_type": "code",
   "execution_count": 35,
   "metadata": {
    "collapsed": true
   },
   "outputs": [],
   "source": [
    "import time\n",
    "from machine import Pin\n",
    "\n",
    "def ping(trigPin, echoPin):\n",
    "    '''\n",
    "        return: distance (cm)\n",
    "    '''\n",
    "    trig=Pin(trigPin, Pin.OUT)\n",
    "    echo=Pin(echoPin, Pin.IN)\n",
    "    trig.value(1)\n",
    "    time.sleep_us(10)\n",
    "    trig.value(0)\n",
    "    timeout=False\n",
    "    tm_start=time.ticks_us() \n",
    "    while not echo.value(): #wait for HIGH, 3000us timeout\n",
    "        if(time.ticks_diff(time.ticks_us(), tm_start)>3000):\n",
    "            timeout=True\n",
    "            break\n",
    "    if timeout: #timeout return 0\n",
    "        pass\n",
    "    else: #got HIGH pulse:calculate duration\n",
    "        tm_start=time.ticks_us()\n",
    "        tm_delta = 0\n",
    "        while echo.value(): #wait for LOW\n",
    "            tm_delta = time.ticks_diff(time.ticks_us(), tm_start)\n",
    "            if(tm_delta>3000):\n",
    "                timeout=True\n",
    "                break\n",
    "        if timeout:\n",
    "            pass\n",
    "        else:\n",
    "            tm_delta = time.ticks_diff(time.ticks_us(), tm_start)\n",
    "            duration=tm_delta\n",
    "    \n",
    "    if timeout:\n",
    "        return 999 #cm, for timeout\n",
    "        \n",
    "    return duration/58\n",
    "\n",
    "\n",
    "#distance=ping(trigPin=D7,echoPin=D8)"
   ]
  },
  {
   "cell_type": "code",
   "execution_count": 37,
   "metadata": {},
   "outputs": [
    {
     "name": "stdout",
     "output_type": "stream",
     "text": [
      "...................\u001b[34m\n",
      "\n",
      "*** Sending Ctrl-C\n",
      "\n",
      "\u001b[0m"
     ]
    },
    {
     "name": "stderr",
     "output_type": "stream",
     "text": [
      "Traceback (most recent call last):\n",
      "  File \"<stdin>\", line 15, in <module>\n",
      "KeyboardInterrupt: \n"
     ]
    }
   ],
   "source": [
    "car_fwd()\n",
    "\n",
    "while(True):\n",
    "    distance=ping(trigPin=D7,echoPin=D8)\n",
    "    if distance>15:\n",
    "        car_fwd()\n",
    "    elif distance<=15:\n",
    "        car_right()\n",
    "    elif distance<=10:\n",
    "        car_stop()\n",
    "        time.sleep(0.5)\n",
    "    elif distance<=5:\n",
    "        car_rev()\n",
    "    time.sleep(0.1)"
   ]
  },
  {
   "cell_type": "markdown",
   "metadata": {},
   "source": [
    "----\n",
    "\n",
    "### 燒入MicroPython板子\n",
    "\n",
    "- MicroPython一上電會執行 main.py 的程式，因此我們使用magic command \"sendtofile\" 燒入板子裡\n"
   ]
  },
  {
   "cell_type": "code",
   "execution_count": 170,
   "metadata": {},
   "outputs": [
    {
     "name": "stdout",
     "output_type": "stream",
     "text": [
      "\u001b[34m** WebSocket connected **\n",
      "\u001b[0mPassword: \u001b[34mReady.\n",
      "\u001b[0m"
     ]
    }
   ],
   "source": [
    "%websocketconnect --password 1234 ws://192.168.43.230:8266"
   ]
  },
  {
   "cell_type": "code",
   "execution_count": 10,
   "metadata": {
    "scrolled": true
   },
   "outputs": [
    {
     "name": "stdout",
     "output_type": "stream",
     "text": [
      "Sent 109 lines (2320 bytes) to main.py.\n"
     ]
    }
   ],
   "source": [
    "%sendtofile main.py\n",
    "\n",
    "# 定義\n",
    "import machine\n",
    "from machine import Pin\n",
    "from machine import PWM\n",
    "import time\n",
    "\n",
    "# PIN Define:\n",
    "D0 = 16\n",
    "D1 = 5  #PWM\n",
    "D2 = 4  #PWM\n",
    "D3 = 0  #PWM\n",
    "D4 = 2  #PWM, #Led on board\n",
    "D5 = 14 #PWM\n",
    "D6 = 12 #PWM\n",
    "D7 = 13 #PWM\n",
    "D8 = 15 #PWM\n",
    "\n",
    "#Setup PINS\n",
    "led = machine.Pin(2, machine.Pin.OUT)\n",
    "for i in range(5):\n",
    "    led.value(not led.value())\n",
    "\n",
    "# for motor sheilf\n",
    "motor_a1 = machine.Pin(D1, machine.Pin.OUT) #A-, speed\n",
    "motor_a2 = machine.Pin(D3, machine.Pin.OUT) #A+, dir\n",
    "motor_b1 = machine.Pin(D2, machine.Pin.OUT) #B-, speed\n",
    "motor_b2 = machine.Pin(D4, machine.Pin.OUT) #B+, dir\n",
    "FWD = 1 #high\n",
    "REV = 0 #low\n",
    "\n",
    "def car_fwd():\n",
    "    motor_a1.value(1)\n",
    "    motor_a2.value(FWD)\n",
    "    motor_b1.value(1)\n",
    "    motor_b2.value(FWD)\n",
    "\n",
    "def car_rev():\n",
    "    motor_a1.value(1)\n",
    "    motor_a2.value(REV)\n",
    "    motor_b1.value(1)\n",
    "    motor_b2.value(REV)\n",
    "\n",
    "def car_stop():\n",
    "    motor_a1.value(0)\n",
    "    motor_a2.value(FWD)\n",
    "    motor_b1.value(0)\n",
    "    motor_b2.value(FWD)\n",
    "\n",
    "def car_right():\n",
    "    motor_a1.value(1)\n",
    "    motor_a2.value(REV)\n",
    "    motor_b1.value(1)\n",
    "    motor_b2.value(FWD)\n",
    "\n",
    "def car_left():\n",
    "    motor_a1.value(1)\n",
    "    motor_a2.value(FWD)\n",
    "    motor_b1.value(1)\n",
    "    motor_b2.value(REV)\n",
    "\n",
    "\n",
    "def ping(trigPin, echoPin):\n",
    "    '''\n",
    "        return: distance (cm)\n",
    "    '''\n",
    "    trig=Pin(trigPin, Pin.OUT)\n",
    "    echo=Pin(echoPin, Pin.IN)\n",
    "    trig.value(1)\n",
    "    time.sleep_us(10)\n",
    "    trig.value(0)\n",
    "    timeout=False\n",
    "    tm_start=time.ticks_us() \n",
    "    while not echo.value(): #wait for HIGH, 3000us timeout\n",
    "        if(time.ticks_diff(time.ticks_us(), tm_start)>3000):\n",
    "            timeout=True\n",
    "            break\n",
    "    if timeout: #timeout return 0\n",
    "        pass\n",
    "    else: #got HIGH pulse:calculate duration\n",
    "        tm_start=time.ticks_us()\n",
    "        tm_delta = 0\n",
    "        while echo.value(): #wait for LOW\n",
    "            tm_delta = time.ticks_diff(time.ticks_us(), tm_start)\n",
    "            if(tm_delta>3000):\n",
    "                timeout=True\n",
    "                break\n",
    "        if timeout:\n",
    "            pass\n",
    "        else:\n",
    "            tm_delta = time.ticks_diff(time.ticks_us(), tm_start)\n",
    "            duration=tm_delta\n",
    "    \n",
    "    if timeout:\n",
    "        return 999 #cm, for timeout\n",
    "        \n",
    "    return duration/58\n",
    "\n",
    "# go~\n",
    "car_fwd()\n",
    "\n",
    "while(True):\n",
    "    distance=ping(trigPin=D7,echoPin=D8)\n",
    "    if distance>20:\n",
    "        car_fwd()\n",
    "    elif distance>10:\n",
    "        car_right()\n",
    "    elif distance<=10:\n",
    "        car_rev()\n",
    "    time.sleep(0.2)"
   ]
  },
  {
   "cell_type": "markdown",
   "metadata": {},
   "source": [
    "----\n",
    "\n",
    "## 修改連接的AP"
   ]
  },
  {
   "cell_type": "code",
   "execution_count": 102,
   "metadata": {
    "scrolled": false
   },
   "outputs": [
    {
     "name": "stdout",
     "output_type": "stream",
     "text": [
      "\u001b[34mConnecting to --port=com13 --baud=115200 \u001b[0m\n",
      "\u001b[34mReady.\n",
      "\u001b[0m"
     ]
    }
   ],
   "source": [
    "%serialconnect to --port=com13 --baud=115200"
   ]
  },
  {
   "cell_type": "markdown",
   "metadata": {},
   "source": [
    "- 用magic comand的方式"
   ]
  },
  {
   "cell_type": "code",
   "execution_count": 98,
   "metadata": {},
   "outputs": [
    {
     "name": "stdout",
     "output_type": "stream",
     "text": [
      "Sent 2 lines (18 bytes) to ap.txt.\n"
     ]
    }
   ],
   "source": [
    "%sendtofile ap.txt\n",
    "my-ap-name\n",
    "my-password"
   ]
  },
  {
   "cell_type": "markdown",
   "metadata": {},
   "source": [
    "- 寫檔的方式修改連結的AP"
   ]
  },
  {
   "cell_type": "code",
   "execution_count": 79,
   "metadata": {
    "collapsed": true
   },
   "outputs": [],
   "source": [
    "ap_config_fn = 'ap.txt'"
   ]
  },
  {
   "cell_type": "code",
   "execution_count": 80,
   "metadata": {
    "collapsed": true
   },
   "outputs": [],
   "source": [
    "AP_SSID = 'my-ap-name'\n",
    "AP_PWD = 'my-password'\n",
    "with open(ap_config_fn, 'w') as f:\n",
    "    f.write(AP_SSID+'\\n')\n",
    "    f.write(AP_PWD+'\\n')"
   ]
  },
  {
   "cell_type": "code",
   "execution_count": 99,
   "metadata": {
    "collapsed": true
   },
   "outputs": [
    {
     "name": "stdout",
     "output_type": "stream",
     "text": [
      "ap config here!\n",
      "malo-ap\n",
      "0928380233\n",
      "['malo-ap', '0928380233']\n"
     ]
    }
   ],
   "source": [
    "ap_config = None\n",
    "\n",
    "print('ap config here!')\n",
    "with open(ap_config_fn, 'r') as f:\n",
    "    ap_config = f.read()\n",
    "\n",
    "print(ap_config)\n",
    "ap_config = ap_config.split('\\n')\n",
    "AP_SSID = ap_config[0].strip()\n",
    "AP_PWD = ap_config[1].strip()\n",
    "print(ap_config)"
   ]
  }
 ],
 "metadata": {
  "kernelspec": {
   "display_name": "MicroPython - USB",
   "language": "micropython",
   "name": "micropython"
  },
  "language_info": {
   "codemirror_mode": "python",
   "file_extension": ".py",
   "mimetype": "text/python",
   "name": "micropython"
  }
 },
 "nbformat": 4,
 "nbformat_minor": 2
}
